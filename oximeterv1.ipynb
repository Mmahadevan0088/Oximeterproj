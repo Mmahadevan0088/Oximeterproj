{
  "nbformat": 4,
  "nbformat_minor": 0,
  "metadata": {
    "colab": {
      "provenance": []
    },
    "kernelspec": {
      "name": "python3",
      "display_name": "Python 3"
    },
    "language_info": {
      "name": "python"
    }
  },
  "cells": [
    {
      "cell_type": "code",
      "execution_count": null,
      "metadata": {
        "id": "d8NfcHOwjUSL"
      },
      "outputs": [],
      "source": [
        "#1\n",
        "# 1 Installs necessary Python packages and imports all required libraries for data handling, feature processing, and model training.\n",
        "!pip install kagglehub pandas numpy scipy scikit-learn --quiet\n",
        "\n",
        "import kagglehub\n",
        "import os\n",
        "import pandas as pd\n",
        "import numpy as np\n",
        "from scipy.signal import find_peaks, welch\n",
        "from scipy.stats import skew, kurtosis\n",
        "from sklearn.gaussian_process import GaussianProcessRegressor\n",
        "from sklearn.gaussian_process.kernels import RBF, WhiteKernel\n",
        "from sklearn.model_selection import train_test_split\n",
        "from sklearn.preprocessing import StandardScaler\n",
        "from sklearn.metrics import mean_absolute_error, mean_squared_error"
      ]
    },
    {
      "cell_type": "code",
      "source": [
        "# 2\n",
        "# 2 Download dataset-Uses KaggleHub to download the SpO₂ patient dataset and prints the local path for further processing.\n",
        "import kagglehub\n",
        "\n",
        "path = kagglehub.dataset_download(\"dibyasankhapal/realtime-patient-data-with-oxygen-demand\")\n",
        "\n",
        "print(\"Path to dataset files:\", path)"
      ],
      "metadata": {
        "colab": {
          "base_uri": "https://localhost:8080/"
        },
        "id": "yeZDRUiojy3e",
        "outputId": "4d773d23-8f26-4b55-fda8-731e07212bb2"
      },
      "execution_count": null,
      "outputs": [
        {
          "output_type": "stream",
          "name": "stdout",
          "text": [
            "Downloading from https://www.kaggle.com/api/v1/datasets/download/dibyasankhapal/realtime-patient-data-with-oxygen-demand?dataset_version_number=1...\n"
          ]
        },
        {
          "output_type": "stream",
          "name": "stderr",
          "text": [
            "100%|██████████| 1.10M/1.10M [00:00<00:00, 75.2MB/s]"
          ]
        },
        {
          "output_type": "stream",
          "name": "stdout",
          "text": [
            "Extracting files...\n",
            "Path to dataset files: /root/.cache/kagglehub/datasets/dibyasankhapal/realtime-patient-data-with-oxygen-demand/versions/1\n"
          ]
        },
        {
          "output_type": "stream",
          "name": "stderr",
          "text": [
            "\n"
          ]
        }
      ]
    },
    {
      "cell_type": "code",
      "source": [
        "# 3. List all dataset files to find the CSV path-Iterates through the downloaded dataset directory and prints all file paths to help identify the correct CSV file for loading.\n",
        "print(\"\\nFiles in dataset directory:\")\n",
        "for root, dirs, files in os.walk(path):\n",
        "    for fname in files:\n",
        "        print(os.path.join(root, fname))"
      ],
      "metadata": {
        "colab": {
          "base_uri": "https://localhost:8080/"
        },
        "id": "jWKElTF-j40X",
        "outputId": "701a3f51-acf7-48e5-db7b-3aa12becde77"
      },
      "execution_count": null,
      "outputs": [
        {
          "output_type": "stream",
          "name": "stdout",
          "text": [
            "\n",
            "Files in dataset directory:\n",
            "/root/.cache/kagglehub/datasets/dibyasankhapal/realtime-patient-data-with-oxygen-demand/versions/1/Oxygen Dataset Final.csv\n"
          ]
        }
      ]
    },
    {
      "cell_type": "code",
      "source": [
        "#4 Explore downloaded folder again-Re-examines the downloaded dataset directory to confirm all files are present and accessible before loading the CSV.\n",
        "import os\n",
        "\n",
        "print(\"Dataset root path:\", path)\n",
        "print(\"\\nAll files found:\")\n",
        "for root, dirs, files in os.walk(path):\n",
        "    for fname in files:\n",
        "        print(os.path.join(root, fname))"
      ],
      "metadata": {
        "colab": {
          "base_uri": "https://localhost:8080/"
        },
        "id": "bVpV9kEpj5j7",
        "outputId": "cbdf3ff9-fbe2-45d2-d99d-1b3d402e106d"
      },
      "execution_count": null,
      "outputs": [
        {
          "output_type": "stream",
          "name": "stdout",
          "text": [
            "Dataset root path: /root/.cache/kagglehub/datasets/dibyasankhapal/realtime-patient-data-with-oxygen-demand/versions/1\n",
            "\n",
            "All files found:\n",
            "/root/.cache/kagglehub/datasets/dibyasankhapal/realtime-patient-data-with-oxygen-demand/versions/1/Oxygen Dataset Final.csv\n"
          ]
        }
      ]
    },
    {
      "cell_type": "code",
      "source": [
        "# 5. Load dataset-Reads the CSV file into a Pandas DataFrame and displays its shape, columns, and basic statistics to understand the dataset structure.\n",
        "csv_path = os.path.join(path, \"Oxygen Dataset Final.csv\")\n",
        "\n",
        "df = pd.read_csv(csv_path)\n",
        "\n",
        "print(\"Shape:\", df.shape)\n",
        "print(\"Columns:\", df.columns.tolist())\n",
        "display(df.head())\n",
        "print(df.describe())"
      ],
      "metadata": {
        "colab": {
          "base_uri": "https://localhost:8080/",
          "height": 571
        },
        "id": "qJgg5LYtj-J5",
        "outputId": "9cb07953-8051-45ef-af9b-c56cb3f5e413"
      },
      "execution_count": null,
      "outputs": [
        {
          "output_type": "stream",
          "name": "stdout",
          "text": [
            "Shape: (200000, 6)\n",
            "Columns: ['age', 'gender', 'spo2', 'pr', 'c/nc', 'oxy_flow']\n"
          ]
        },
        {
          "output_type": "display_data",
          "data": {
            "text/plain": [
              "   age  gender  spo2     pr  c/nc  oxy_flow\n",
              "0   27       0  74.0   72.0   1.0       6.0\n",
              "1   53       1   NaN  110.0   NaN      28.0\n",
              "2   56       0  99.0   98.0   1.0       NaN\n",
              "3   26       1   NaN  110.0   1.0       4.0\n",
              "4   52       0  69.0   84.0   1.0       0.0"
            ],
            "text/html": [
              "\n",
              "  <div id=\"df-932e5d89-c788-4c28-80db-e8de170176f5\" class=\"colab-df-container\">\n",
              "    <div>\n",
              "<style scoped>\n",
              "    .dataframe tbody tr th:only-of-type {\n",
              "        vertical-align: middle;\n",
              "    }\n",
              "\n",
              "    .dataframe tbody tr th {\n",
              "        vertical-align: top;\n",
              "    }\n",
              "\n",
              "    .dataframe thead th {\n",
              "        text-align: right;\n",
              "    }\n",
              "</style>\n",
              "<table border=\"1\" class=\"dataframe\">\n",
              "  <thead>\n",
              "    <tr style=\"text-align: right;\">\n",
              "      <th></th>\n",
              "      <th>age</th>\n",
              "      <th>gender</th>\n",
              "      <th>spo2</th>\n",
              "      <th>pr</th>\n",
              "      <th>c/nc</th>\n",
              "      <th>oxy_flow</th>\n",
              "    </tr>\n",
              "  </thead>\n",
              "  <tbody>\n",
              "    <tr>\n",
              "      <th>0</th>\n",
              "      <td>27</td>\n",
              "      <td>0</td>\n",
              "      <td>74.0</td>\n",
              "      <td>72.0</td>\n",
              "      <td>1.0</td>\n",
              "      <td>6.0</td>\n",
              "    </tr>\n",
              "    <tr>\n",
              "      <th>1</th>\n",
              "      <td>53</td>\n",
              "      <td>1</td>\n",
              "      <td>NaN</td>\n",
              "      <td>110.0</td>\n",
              "      <td>NaN</td>\n",
              "      <td>28.0</td>\n",
              "    </tr>\n",
              "    <tr>\n",
              "      <th>2</th>\n",
              "      <td>56</td>\n",
              "      <td>0</td>\n",
              "      <td>99.0</td>\n",
              "      <td>98.0</td>\n",
              "      <td>1.0</td>\n",
              "      <td>NaN</td>\n",
              "    </tr>\n",
              "    <tr>\n",
              "      <th>3</th>\n",
              "      <td>26</td>\n",
              "      <td>1</td>\n",
              "      <td>NaN</td>\n",
              "      <td>110.0</td>\n",
              "      <td>1.0</td>\n",
              "      <td>4.0</td>\n",
              "    </tr>\n",
              "    <tr>\n",
              "      <th>4</th>\n",
              "      <td>52</td>\n",
              "      <td>0</td>\n",
              "      <td>69.0</td>\n",
              "      <td>84.0</td>\n",
              "      <td>1.0</td>\n",
              "      <td>0.0</td>\n",
              "    </tr>\n",
              "  </tbody>\n",
              "</table>\n",
              "</div>\n",
              "    <div class=\"colab-df-buttons\">\n",
              "\n",
              "  <div class=\"colab-df-container\">\n",
              "    <button class=\"colab-df-convert\" onclick=\"convertToInteractive('df-932e5d89-c788-4c28-80db-e8de170176f5')\"\n",
              "            title=\"Convert this dataframe to an interactive table.\"\n",
              "            style=\"display:none;\">\n",
              "\n",
              "  <svg xmlns=\"http://www.w3.org/2000/svg\" height=\"24px\" viewBox=\"0 -960 960 960\">\n",
              "    <path d=\"M120-120v-720h720v720H120Zm60-500h600v-160H180v160Zm220 220h160v-160H400v160Zm0 220h160v-160H400v160ZM180-400h160v-160H180v160Zm440 0h160v-160H620v160ZM180-180h160v-160H180v160Zm440 0h160v-160H620v160Z\"/>\n",
              "  </svg>\n",
              "    </button>\n",
              "\n",
              "  <style>\n",
              "    .colab-df-container {\n",
              "      display:flex;\n",
              "      gap: 12px;\n",
              "    }\n",
              "\n",
              "    .colab-df-convert {\n",
              "      background-color: #E8F0FE;\n",
              "      border: none;\n",
              "      border-radius: 50%;\n",
              "      cursor: pointer;\n",
              "      display: none;\n",
              "      fill: #1967D2;\n",
              "      height: 32px;\n",
              "      padding: 0 0 0 0;\n",
              "      width: 32px;\n",
              "    }\n",
              "\n",
              "    .colab-df-convert:hover {\n",
              "      background-color: #E2EBFA;\n",
              "      box-shadow: 0px 1px 2px rgba(60, 64, 67, 0.3), 0px 1px 3px 1px rgba(60, 64, 67, 0.15);\n",
              "      fill: #174EA6;\n",
              "    }\n",
              "\n",
              "    .colab-df-buttons div {\n",
              "      margin-bottom: 4px;\n",
              "    }\n",
              "\n",
              "    [theme=dark] .colab-df-convert {\n",
              "      background-color: #3B4455;\n",
              "      fill: #D2E3FC;\n",
              "    }\n",
              "\n",
              "    [theme=dark] .colab-df-convert:hover {\n",
              "      background-color: #434B5C;\n",
              "      box-shadow: 0px 1px 3px 1px rgba(0, 0, 0, 0.15);\n",
              "      filter: drop-shadow(0px 1px 2px rgba(0, 0, 0, 0.3));\n",
              "      fill: #FFFFFF;\n",
              "    }\n",
              "  </style>\n",
              "\n",
              "    <script>\n",
              "      const buttonEl =\n",
              "        document.querySelector('#df-932e5d89-c788-4c28-80db-e8de170176f5 button.colab-df-convert');\n",
              "      buttonEl.style.display =\n",
              "        google.colab.kernel.accessAllowed ? 'block' : 'none';\n",
              "\n",
              "      async function convertToInteractive(key) {\n",
              "        const element = document.querySelector('#df-932e5d89-c788-4c28-80db-e8de170176f5');\n",
              "        const dataTable =\n",
              "          await google.colab.kernel.invokeFunction('convertToInteractive',\n",
              "                                                    [key], {});\n",
              "        if (!dataTable) return;\n",
              "\n",
              "        const docLinkHtml = 'Like what you see? Visit the ' +\n",
              "          '<a target=\"_blank\" href=https://colab.research.google.com/notebooks/data_table.ipynb>data table notebook</a>'\n",
              "          + ' to learn more about interactive tables.';\n",
              "        element.innerHTML = '';\n",
              "        dataTable['output_type'] = 'display_data';\n",
              "        await google.colab.output.renderOutput(dataTable, element);\n",
              "        const docLink = document.createElement('div');\n",
              "        docLink.innerHTML = docLinkHtml;\n",
              "        element.appendChild(docLink);\n",
              "      }\n",
              "    </script>\n",
              "  </div>\n",
              "\n",
              "\n",
              "    <div id=\"df-409d38c6-b1be-4dfe-8cb4-950853c49d77\">\n",
              "      <button class=\"colab-df-quickchart\" onclick=\"quickchart('df-409d38c6-b1be-4dfe-8cb4-950853c49d77')\"\n",
              "                title=\"Suggest charts\"\n",
              "                style=\"display:none;\">\n",
              "\n",
              "<svg xmlns=\"http://www.w3.org/2000/svg\" height=\"24px\"viewBox=\"0 0 24 24\"\n",
              "     width=\"24px\">\n",
              "    <g>\n",
              "        <path d=\"M19 3H5c-1.1 0-2 .9-2 2v14c0 1.1.9 2 2 2h14c1.1 0 2-.9 2-2V5c0-1.1-.9-2-2-2zM9 17H7v-7h2v7zm4 0h-2V7h2v10zm4 0h-2v-4h2v4z\"/>\n",
              "    </g>\n",
              "</svg>\n",
              "      </button>\n",
              "\n",
              "<style>\n",
              "  .colab-df-quickchart {\n",
              "      --bg-color: #E8F0FE;\n",
              "      --fill-color: #1967D2;\n",
              "      --hover-bg-color: #E2EBFA;\n",
              "      --hover-fill-color: #174EA6;\n",
              "      --disabled-fill-color: #AAA;\n",
              "      --disabled-bg-color: #DDD;\n",
              "  }\n",
              "\n",
              "  [theme=dark] .colab-df-quickchart {\n",
              "      --bg-color: #3B4455;\n",
              "      --fill-color: #D2E3FC;\n",
              "      --hover-bg-color: #434B5C;\n",
              "      --hover-fill-color: #FFFFFF;\n",
              "      --disabled-bg-color: #3B4455;\n",
              "      --disabled-fill-color: #666;\n",
              "  }\n",
              "\n",
              "  .colab-df-quickchart {\n",
              "    background-color: var(--bg-color);\n",
              "    border: none;\n",
              "    border-radius: 50%;\n",
              "    cursor: pointer;\n",
              "    display: none;\n",
              "    fill: var(--fill-color);\n",
              "    height: 32px;\n",
              "    padding: 0;\n",
              "    width: 32px;\n",
              "  }\n",
              "\n",
              "  .colab-df-quickchart:hover {\n",
              "    background-color: var(--hover-bg-color);\n",
              "    box-shadow: 0 1px 2px rgba(60, 64, 67, 0.3), 0 1px 3px 1px rgba(60, 64, 67, 0.15);\n",
              "    fill: var(--button-hover-fill-color);\n",
              "  }\n",
              "\n",
              "  .colab-df-quickchart-complete:disabled,\n",
              "  .colab-df-quickchart-complete:disabled:hover {\n",
              "    background-color: var(--disabled-bg-color);\n",
              "    fill: var(--disabled-fill-color);\n",
              "    box-shadow: none;\n",
              "  }\n",
              "\n",
              "  .colab-df-spinner {\n",
              "    border: 2px solid var(--fill-color);\n",
              "    border-color: transparent;\n",
              "    border-bottom-color: var(--fill-color);\n",
              "    animation:\n",
              "      spin 1s steps(1) infinite;\n",
              "  }\n",
              "\n",
              "  @keyframes spin {\n",
              "    0% {\n",
              "      border-color: transparent;\n",
              "      border-bottom-color: var(--fill-color);\n",
              "      border-left-color: var(--fill-color);\n",
              "    }\n",
              "    20% {\n",
              "      border-color: transparent;\n",
              "      border-left-color: var(--fill-color);\n",
              "      border-top-color: var(--fill-color);\n",
              "    }\n",
              "    30% {\n",
              "      border-color: transparent;\n",
              "      border-left-color: var(--fill-color);\n",
              "      border-top-color: var(--fill-color);\n",
              "      border-right-color: var(--fill-color);\n",
              "    }\n",
              "    40% {\n",
              "      border-color: transparent;\n",
              "      border-right-color: var(--fill-color);\n",
              "      border-top-color: var(--fill-color);\n",
              "    }\n",
              "    60% {\n",
              "      border-color: transparent;\n",
              "      border-right-color: var(--fill-color);\n",
              "    }\n",
              "    80% {\n",
              "      border-color: transparent;\n",
              "      border-right-color: var(--fill-color);\n",
              "      border-bottom-color: var(--fill-color);\n",
              "    }\n",
              "    90% {\n",
              "      border-color: transparent;\n",
              "      border-bottom-color: var(--fill-color);\n",
              "    }\n",
              "  }\n",
              "</style>\n",
              "\n",
              "      <script>\n",
              "        async function quickchart(key) {\n",
              "          const quickchartButtonEl =\n",
              "            document.querySelector('#' + key + ' button');\n",
              "          quickchartButtonEl.disabled = true;  // To prevent multiple clicks.\n",
              "          quickchartButtonEl.classList.add('colab-df-spinner');\n",
              "          try {\n",
              "            const charts = await google.colab.kernel.invokeFunction(\n",
              "                'suggestCharts', [key], {});\n",
              "          } catch (error) {\n",
              "            console.error('Error during call to suggestCharts:', error);\n",
              "          }\n",
              "          quickchartButtonEl.classList.remove('colab-df-spinner');\n",
              "          quickchartButtonEl.classList.add('colab-df-quickchart-complete');\n",
              "        }\n",
              "        (() => {\n",
              "          let quickchartButtonEl =\n",
              "            document.querySelector('#df-409d38c6-b1be-4dfe-8cb4-950853c49d77 button');\n",
              "          quickchartButtonEl.style.display =\n",
              "            google.colab.kernel.accessAllowed ? 'block' : 'none';\n",
              "        })();\n",
              "      </script>\n",
              "    </div>\n",
              "\n",
              "    </div>\n",
              "  </div>\n"
            ],
            "application/vnd.google.colaboratory.intrinsic+json": {
              "type": "dataframe",
              "summary": "{\n  \"name\": \"print(df\",\n  \"rows\": 5,\n  \"fields\": [\n    {\n      \"column\": \"age\",\n      \"properties\": {\n        \"dtype\": \"number\",\n        \"std\": 14,\n        \"min\": 26,\n        \"max\": 56,\n        \"num_unique_values\": 5,\n        \"samples\": [\n          53,\n          52,\n          56\n        ],\n        \"semantic_type\": \"\",\n        \"description\": \"\"\n      }\n    },\n    {\n      \"column\": \"gender\",\n      \"properties\": {\n        \"dtype\": \"number\",\n        \"std\": 0,\n        \"min\": 0,\n        \"max\": 1,\n        \"num_unique_values\": 2,\n        \"samples\": [\n          1,\n          0\n        ],\n        \"semantic_type\": \"\",\n        \"description\": \"\"\n      }\n    },\n    {\n      \"column\": \"spo2\",\n      \"properties\": {\n        \"dtype\": \"number\",\n        \"std\": 16.072751268321593,\n        \"min\": 69.0,\n        \"max\": 99.0,\n        \"num_unique_values\": 3,\n        \"samples\": [\n          74.0,\n          99.0\n        ],\n        \"semantic_type\": \"\",\n        \"description\": \"\"\n      }\n    },\n    {\n      \"column\": \"pr\",\n      \"properties\": {\n        \"dtype\": \"number\",\n        \"std\": 16.649324310613927,\n        \"min\": 72.0,\n        \"max\": 110.0,\n        \"num_unique_values\": 4,\n        \"samples\": [\n          110.0,\n          84.0\n        ],\n        \"semantic_type\": \"\",\n        \"description\": \"\"\n      }\n    },\n    {\n      \"column\": \"c/nc\",\n      \"properties\": {\n        \"dtype\": \"number\",\n        \"std\": 0.0,\n        \"min\": 1.0,\n        \"max\": 1.0,\n        \"num_unique_values\": 1,\n        \"samples\": [\n          1.0\n        ],\n        \"semantic_type\": \"\",\n        \"description\": \"\"\n      }\n    },\n    {\n      \"column\": \"oxy_flow\",\n      \"properties\": {\n        \"dtype\": \"number\",\n        \"std\": 12.583057392117917,\n        \"min\": 0.0,\n        \"max\": 28.0,\n        \"num_unique_values\": 4,\n        \"samples\": [\n          28.0\n        ],\n        \"semantic_type\": \"\",\n        \"description\": \"\"\n      }\n    }\n  ]\n}"
            }
          },
          "metadata": {}
        },
        {
          "output_type": "stream",
          "name": "stdout",
          "text": [
            "                 age         gender           spo2             pr  \\\n",
            "count  200000.000000  200000.000000  173755.000000  167616.000000   \n",
            "mean       46.259365       0.369110      88.149809      92.570990   \n",
            "std        21.789486       0.482565      15.806494      15.982894   \n",
            "min        17.000000       0.000000      35.000000      40.000000   \n",
            "25%        28.000000       0.000000      83.000000      82.000000   \n",
            "50%        44.000000       0.000000      96.000000      96.000000   \n",
            "75%        62.000000       1.000000      99.000000     107.000000   \n",
            "max       100.000000       1.000000      99.000000     110.000000   \n",
            "\n",
            "                c/nc       oxy_flow  \n",
            "count  173558.000000  162253.000000  \n",
            "mean        0.782240      18.619144  \n",
            "std         0.412725      17.839597  \n",
            "min         0.000000       0.000000  \n",
            "25%         1.000000       6.000000  \n",
            "50%         1.000000      16.000000  \n",
            "75%         1.000000      24.000000  \n",
            "max         1.000000      76.000000  \n"
          ]
        }
      ]
    },
    {
      "cell_type": "code",
      "source": [
        "#6 Show all column names\n",
        "print(df.columns.tolist())"
      ],
      "metadata": {
        "colab": {
          "base_uri": "https://localhost:8080/"
        },
        "id": "dhVvyKSAj-HK",
        "outputId": "c0c211d8-31fc-4abd-fdb1-3a8dbe82bf58"
      },
      "execution_count": null,
      "outputs": [
        {
          "output_type": "stream",
          "name": "stdout",
          "text": [
            "['age', 'gender', 'spo2', 'pr', 'c/nc', 'oxy_flow']\n"
          ]
        }
      ]
    },
    {
      "cell_type": "code",
      "source": [
        "print(df.head())\n",
        "#7 Check first few rows to see the values:"
      ],
      "metadata": {
        "colab": {
          "base_uri": "https://localhost:8080/"
        },
        "id": "VRJlBKe6j-E2",
        "outputId": "5b24ce1f-5df0-47b6-b8c6-fac468d9e796"
      },
      "execution_count": null,
      "outputs": [
        {
          "output_type": "stream",
          "name": "stdout",
          "text": [
            "   age  gender  spo2     pr  c/nc  oxy_flow\n",
            "0   27       0  74.0   72.0   1.0       6.0\n",
            "1   53       1   NaN  110.0   NaN      28.0\n",
            "2   56       0  99.0   98.0   1.0       NaN\n",
            "3   26       1   NaN  110.0   1.0       4.0\n",
            "4   52       0  69.0   84.0   1.0       0.0\n"
          ]
        }
      ]
    },
    {
      "cell_type": "code",
      "source": [
        "print(df.dtypes)\n",
        "#8 Check data types:"
      ],
      "metadata": {
        "colab": {
          "base_uri": "https://localhost:8080/"
        },
        "id": "XcSg6zpBj-CZ",
        "outputId": "c394a9f5-249e-46d1-b584-af1acb45cfc9"
      },
      "execution_count": null,
      "outputs": [
        {
          "output_type": "stream",
          "name": "stdout",
          "text": [
            "age           int64\n",
            "gender        int64\n",
            "spo2        float64\n",
            "pr          float64\n",
            "c/nc        float64\n",
            "oxy_flow    float64\n",
            "dtype: object\n"
          ]
        }
      ]
    },
    {
      "cell_type": "code",
      "source": [
        "print(df.isnull().sum())\n",
        "#9 Check for missing values:"
      ],
      "metadata": {
        "colab": {
          "base_uri": "https://localhost:8080/"
        },
        "id": "Yzuwg4WEj9_t",
        "outputId": "b1628c36-7eb1-4f7e-cf77-fc87fbda0e38"
      },
      "execution_count": null,
      "outputs": [
        {
          "output_type": "stream",
          "name": "stdout",
          "text": [
            "age             0\n",
            "gender          0\n",
            "spo2        26245\n",
            "pr          32384\n",
            "c/nc        26442\n",
            "oxy_flow    37747\n",
            "dtype: int64\n"
          ]
        }
      ]
    },
    {
      "cell_type": "code",
      "source": [
        "print(df.describe())\n",
        "#10 Check basic statistics:"
      ],
      "metadata": {
        "colab": {
          "base_uri": "https://localhost:8080/"
        },
        "id": "XF7V3GTsj99R",
        "outputId": "f05060fa-6603-4e46-9160-a65fe80d4c42"
      },
      "execution_count": null,
      "outputs": [
        {
          "output_type": "stream",
          "name": "stdout",
          "text": [
            "                 age         gender           spo2             pr  \\\n",
            "count  200000.000000  200000.000000  173755.000000  167616.000000   \n",
            "mean       46.259365       0.369110      88.149809      92.570990   \n",
            "std        21.789486       0.482565      15.806494      15.982894   \n",
            "min        17.000000       0.000000      35.000000      40.000000   \n",
            "25%        28.000000       0.000000      83.000000      82.000000   \n",
            "50%        44.000000       0.000000      96.000000      96.000000   \n",
            "75%        62.000000       1.000000      99.000000     107.000000   \n",
            "max       100.000000       1.000000      99.000000     110.000000   \n",
            "\n",
            "                c/nc       oxy_flow  \n",
            "count  173558.000000  162253.000000  \n",
            "mean        0.782240      18.619144  \n",
            "std         0.412725      17.839597  \n",
            "min         0.000000       0.000000  \n",
            "25%         1.000000       6.000000  \n",
            "50%         1.000000      16.000000  \n",
            "75%         1.000000      24.000000  \n",
            "max         1.000000      76.000000  \n"
          ]
        }
      ]
    },
    {
      "cell_type": "code",
      "source": [
        "df.columns = df.columns.str.lower()\n",
        "#11 Standardize Column Names"
      ],
      "metadata": {
        "id": "tGCxbEHrj96m"
      },
      "execution_count": null,
      "outputs": []
    },
    {
      "cell_type": "code",
      "source": [
        "#12 Drop rows with any missing values\n",
        "df = df.dropna()\n",
        "df['spo2'] = df['spo2'].fillna(df['spo2'].median())\n",
        "df['pr'] = df['pr'].fillna(df['pr'].median())"
      ],
      "metadata": {
        "id": "Mlnj7CNDj93w"
      },
      "execution_count": null,
      "outputs": []
    },
    {
      "cell_type": "code",
      "source": [
        "print(df[['spo2','pr']].describe())\n",
        "#13 remove outliers"
      ],
      "metadata": {
        "colab": {
          "base_uri": "https://localhost:8080/"
        },
        "id": "EUshIoDyj9zl",
        "outputId": "134f58fc-7cc6-4e12-caa2-6caf8ecac8f2"
      },
      "execution_count": null,
      "outputs": [
        {
          "output_type": "stream",
          "name": "stdout",
          "text": [
            "               spo2            pr\n",
            "count  98925.000000  98925.000000\n",
            "mean      88.614577     92.515188\n",
            "std       15.537629     16.025638\n",
            "min       35.000000     40.000000\n",
            "25%       84.000000     82.000000\n",
            "50%       97.000000     96.000000\n",
            "75%       99.000000    107.000000\n",
            "max       99.000000    110.000000\n"
          ]
        }
      ]
    },
    {
      "cell_type": "code",
      "source": [
        "#14 check categorical values\n",
        "print(df['gender'].value_counts())\n",
        "print(df['c/nc'].value_counts())"
      ],
      "metadata": {
        "colab": {
          "base_uri": "https://localhost:8080/"
        },
        "id": "F4j9DhAwj9tu",
        "outputId": "c0d55035-d468-4a42-b392-a86d7e24d669"
      },
      "execution_count": null,
      "outputs": [
        {
          "output_type": "stream",
          "name": "stdout",
          "text": [
            "gender\n",
            "0    67061\n",
            "1    31864\n",
            "Name: count, dtype: int64\n",
            "c/nc\n",
            "1.0    77846\n",
            "0.0    21079\n",
            "Name: count, dtype: int64\n"
          ]
        }
      ]
    },
    {
      "cell_type": "code",
      "source": [
        "#15 Clean Dataset: Remove Outliers & Missing Values-Filters SpO₂ values to the physiological range (70–100), drops any remaining missing values, and resets the DataFrame index for consistency.\n",
        "df = df[df['spo2'].between(70, 100)]\n",
        "df = df.dropna()\n",
        "df = df.reset_index(drop=True)"
      ],
      "metadata": {
        "id": "t_2kfs2Bj9nF"
      },
      "execution_count": null,
      "outputs": []
    },
    {
      "cell_type": "code",
      "source": [
        "#16.1 Explore Target Column\n",
        "import matplotlib.pyplot as plt\n",
        "import seaborn as sns\n",
        "\n",
        "# Distribution of SpO2-Visualizes the distribution of SpO₂ values to understand the target variable’s spread, central tendency, and potential skewness.\n",
        "sns.histplot(df['spo2'], bins=20, kde=True)\n",
        "plt.title('Distribution of SpO2')\n",
        "plt.show()\n",
        "\n",
        "# Basic statistics\n",
        "print(df['spo2'].describe())"
      ],
      "metadata": {
        "colab": {
          "base_uri": "https://localhost:8080/",
          "height": 628
        },
        "id": "CsC_X_vIj9eL",
        "outputId": "30ea1b86-701a-460d-88fc-f84b1cb119c7"
      },
      "execution_count": null,
      "outputs": [
        {
          "output_type": "display_data",
          "data": {
            "text/plain": [
              "<Figure size 640x480 with 1 Axes>"
            ],
            "image/png": "[encoded data removed]"
          },
          "metadata": {}
        },
        {
          "output_type": "stream",
          "name": "stdout",
          "text": [
            "count    87607.000000\n",
            "mean        93.293584\n",
            "std          7.971774\n",
            "min         70.000000\n",
            "25%         89.000000\n",
            "50%         99.000000\n",
            "75%         99.000000\n",
            "max         99.000000\n",
            "Name: spo2, dtype: float64\n"
          ]
        }
      ]
    },
    {
      "cell_type": "code",
      "source": [
        "#16.2 Explore Pulse Rate (pr) vs SpO2-Examines the relationship between pulse rate and SpO₂ to identify patterns, trends, or correlations between the two variables.\n",
        "sns.scatterplot(x='pr', y='spo2', data=df)\n",
        "plt.title('Pulse Rate vs SpO2')\n",
        "plt.show()"
      ],
      "metadata": {
        "colab": {
          "base_uri": "https://localhost:8080/",
          "height": 472
        },
        "id": "rnNjxqUbj9XA",
        "outputId": "93c9a4a9-0680-45ed-ab9f-343d126ff666"
      },
      "execution_count": null,
      "outputs": [
        {
          "output_type": "display_data",
          "data": {
            "text/plain": [
              "<Figure size 640x480 with 1 Axes>"
            ],
            "image/png": "[encoded data removed]"
          },
          "metadata": {}
        }
      ]
    },
    {
      "cell_type": "code",
      "source": [
        "#16.3 Explore Categorical Columns-Compares SpO₂ distributions across categorical variables (gender and c/nc) to identify differences or patterns between groups.\n",
        "sns.boxplot(x='gender', y='spo2', data=df)\n",
        "plt.title('SpO2 by Gender')\n",
        "plt.show()\n",
        "\n",
        "sns.boxplot(x='c/nc', y='spo2', data=df)\n",
        "plt.title('SpO2 by C/NC')\n",
        "plt.show()"
      ],
      "metadata": {
        "colab": {
          "base_uri": "https://localhost:8080/",
          "height": 927
        },
        "id": "PKtVpC02krdS",
        "outputId": "be8b1cc8-d6d3-44c3-8ee0-dbddff265574"
      },
      "execution_count": null,
      "outputs": [
        {
          "output_type": "display_data",
          "data": {
            "text/plain": [
              "<Figure size 640x480 with 1 Axes>"
            ],
            "image/png": "[encoded data removed]"
          },
          "metadata": {}
        },
        {
          "output_type": "display_data",
          "data": {
            "text/plain": [
              "<Figure size 640x480 with 1 Axes>"
            ],
            "image/png": "[encoded data removed]"
          },
          "metadata": {}
        }
      ]
    },
    {
      "cell_type": "code",
      "source": [
        "#16.4 Correlation Check-Displays correlations between all numeric features and SpO₂ to identify strongly related variables and potential multicollinearity.\n",
        "print(df.corr())\n",
        "\n",
        "sns.heatmap(df.corr(), annot=True, cmap='coolwarm')\n",
        "plt.show()"
      ],
      "metadata": {
        "colab": {
          "base_uri": "https://localhost:8080/",
          "height": 557
        },
        "id": "_lHWJp4VkraU",
        "outputId": "25389a14-96b1-49d2-9375-7eb5655f62c5"
      },
      "execution_count": null,
      "outputs": [
        {
          "output_type": "stream",
          "name": "stdout",
          "text": [
            "               age    gender      spo2        pr      c/nc  oxy_flow\n",
            "age       1.000000 -0.020614  0.009166  0.018248  0.014749 -0.074552\n",
            "gender   -0.020614  1.000000 -0.032895  0.005101 -0.015103  0.019534\n",
            "spo2      0.009166 -0.032895  1.000000 -0.054312 -0.008032 -0.033767\n",
            "pr        0.018248  0.005101 -0.054312  1.000000  0.019420 -0.062993\n",
            "c/nc      0.014749 -0.015103 -0.008032  0.019420  1.000000 -0.014138\n",
            "oxy_flow -0.074552  0.019534 -0.033767 -0.062993 -0.014138  1.000000\n"
          ]
        },
        {
          "output_type": "display_data",
          "data": {
            "text/plain": [
              "<Figure size 640x480 with 2 Axes>"
            ],
            "image/png": "[encoded data removed]"
          },
          "metadata": {}
        }
      ]
    },
    {
      "cell_type": "markdown",
      "source": [
        "feature extraction"
      ],
      "metadata": {
        "id": "ZvEPwsRsk1-3"
      }
    },
    {
      "cell_type": "code",
      "source": [
        "#17 Extracts basic statistical features for numeric columns to enrich the dataset with additional informative predictors.\n",
        "import numpy as np\n",
        "from scipy.stats import skew, kurtosis\n",
        "\n",
        "numeric_cols = ['pr']  # add more numeric columns if any\n",
        "\n",
        "for col in numeric_cols:\n",
        "    df[f'{col}_mean'] = df[col]  # same as original if single value per row\n",
        "    df[f'{col}_std'] = 0         # if single value, std=0\n",
        "    df[f'{col}_skew'] = 0        # same\n",
        "    df[f'{col}_kurtosis'] = 0    # same"
      ],
      "metadata": {
        "id": "E8WS6hMRkrWg"
      },
      "execution_count": null,
      "outputs": []
    },
    {
      "cell_type": "code",
      "source": [
        "df['pr_spo2_ratio'] = df['pr'] / df['spo2']\n",
        "#18 Creates a derived feature representing the ratio of pulse rate to SpO₂ to capture potential physiological relationships for prediction."
      ],
      "metadata": {
        "id": "98My6CRUkrSn"
      },
      "execution_count": null,
      "outputs": []
    },
    {
      "cell_type": "markdown",
      "source": [
        "prepare data for modelling"
      ],
      "metadata": {
        "id": "dd_sWQgfk9xq"
      }
    },
    {
      "cell_type": "code",
      "source": [
        "#19.1 Encode Categorical Variables-Converts categorical variables into numeric one-hot encoded columns to make them usable for machine learning models while avoiding multicollinearity.\n",
        "# One-hot encoding for categorical columns\n",
        "#drop_first=True avoids multicollinearity.\n",
        "#Example: gender_male = 1 if male, 0 if female.\n",
        "df_encoded = pd.get_dummies(df, columns=['gender', 'c/nc'], drop_first=True)"
      ],
      "metadata": {
        "id": "_iIfgPxIkrOH"
      },
      "execution_count": null,
      "outputs": []
    },
    {
      "cell_type": "code",
      "source": [
        "#19.2 Separate Features and Target-Separates the dataset into input features (X) and target variable (y) to prepare for model training and evaluation.\n",
        "# Target\n",
        "y = df_encoded['spo2']\n",
        "\n",
        "# Features (all other columns except 'spo2')\n",
        "X = df_encoded.drop(columns=['spo2'])"
      ],
      "metadata": {
        "id": "SCKTC7M5krEy"
      },
      "execution_count": null,
      "outputs": []
    },
    {
      "cell_type": "code",
      "source": [
        "#20\n",
        "# --- Sanity check: make sure no leakage ---\n",
        "print(\"Columns in X:\", X.columns.tolist())\n",
        "\n",
        "import numpy as np\n",
        "# Confirm 'spo2' not in features\n",
        "print(\"'spo2' in X columns?\", 'spo2' in X.columns)\n",
        "\n",
        "# Identify any column identical or near-identical to the target\n",
        "identical_cols = [col for col in X.columns if np.array_equal(X[col].values, y.values)]\n",
        "approx_identical = [col for col in X.columns\n",
        "                    if np.allclose(X[col].astype(float).values,\n",
        "                                   y.astype(float).values, atol=1e-6)]\n",
        "print(\"Columns identical to y:\", identical_cols)\n",
        "print(\"Columns approx equal to y:\", approx_identical)\n",
        "\n",
        "# Correlations\n",
        "corrs = df.corr().get('spo2').drop('spo2').abs().sort_values(ascending=False)\n",
        "print(\"\\nTop correlations with spo2:\\n\", corrs.head(10))\n"
      ],
      "metadata": {
        "colab": {
          "base_uri": "https://localhost:8080/"
        },
        "id": "2fSzUMVjyFAE",
        "outputId": "076fad2f-a6b3-4adb-f8b9-a61c622a6fc8"
      },
      "execution_count": null,
      "outputs": [
        {
          "output_type": "stream",
          "name": "stdout",
          "text": [
            "Columns in X: ['age', 'pr', 'oxy_flow', 'pr_mean', 'pr_std', 'pr_skew', 'pr_kurtosis', 'pr_spo2_ratio', 'gender_1', 'c/nc_1.0']\n",
            "'spo2' in X columns? False\n",
            "Columns identical to y: []\n",
            "Columns approx equal to y: []\n",
            "\n",
            "Top correlations with spo2:\n",
            " pr_spo2_ratio    0.522735\n",
            "pr_mean          0.054312\n",
            "pr               0.054312\n",
            "oxy_flow         0.033767\n",
            "gender           0.032895\n",
            "age              0.009166\n",
            "c/nc             0.008032\n",
            "pr_std                NaN\n",
            "pr_skew               NaN\n",
            "pr_kurtosis           NaN\n",
            "Name: spo2, dtype: float64\n"
          ]
        }
      ]
    },
    {
      "cell_type": "code",
      "source": [
        "#21\n",
        "df[['spo2', 'pr_spo2_ratio']].head(5)\n"
      ],
      "metadata": {
        "colab": {
          "base_uri": "https://localhost:8080/",
          "height": 206
        },
        "id": "434HKRbjym77",
        "outputId": "1f429bfd-cee2-4ef0-b8ed-c6fde729ac85"
      },
      "execution_count": null,
      "outputs": [
        {
          "output_type": "execute_result",
          "data": {
            "text/plain": [
              "   spo2  pr_spo2_ratio\n",
              "0  74.0       0.972973\n",
              "1  93.0       1.000000\n",
              "2  90.0       1.022222\n",
              "3  99.0       1.101010\n",
              "4  97.0       1.041237"
            ],
            "text/html": [
              "\n",
              "  <div id=\"df-d4f6a500-ccf7-427e-99f7-3c21a1c82628\" class=\"colab-df-container\">\n",
              "    <div>\n",
              "<style scoped>\n",
              "    .dataframe tbody tr th:only-of-type {\n",
              "        vertical-align: middle;\n",
              "    }\n",
              "\n",
              "    .dataframe tbody tr th {\n",
              "        vertical-align: top;\n",
              "    }\n",
              "\n",
              "    .dataframe thead th {\n",
              "        text-align: right;\n",
              "    }\n",
              "</style>\n",
              "<table border=\"1\" class=\"dataframe\">\n",
              "  <thead>\n",
              "    <tr style=\"text-align: right;\">\n",
              "      <th></th>\n",
              "      <th>spo2</th>\n",
              "      <th>pr_spo2_ratio</th>\n",
              "    </tr>\n",
              "  </thead>\n",
              "  <tbody>\n",
              "    <tr>\n",
              "      <th>0</th>\n",
              "      <td>74.0</td>\n",
              "      <td>0.972973</td>\n",
              "    </tr>\n",
              "    <tr>\n",
              "      <th>1</th>\n",
              "      <td>93.0</td>\n",
              "      <td>1.000000</td>\n",
              "    </tr>\n",
              "    <tr>\n",
              "      <th>2</th>\n",
              "      <td>90.0</td>\n",
              "      <td>1.022222</td>\n",
              "    </tr>\n",
              "    <tr>\n",
              "      <th>3</th>\n",
              "      <td>99.0</td>\n",
              "      <td>1.101010</td>\n",
              "    </tr>\n",
              "    <tr>\n",
              "      <th>4</th>\n",
              "      <td>97.0</td>\n",
              "      <td>1.041237</td>\n",
              "    </tr>\n",
              "  </tbody>\n",
              "</table>\n",
              "</div>\n",
              "    <div class=\"colab-df-buttons\">\n",
              "\n",
              "  <div class=\"colab-df-container\">\n",
              "    <button class=\"colab-df-convert\" onclick=\"convertToInteractive('df-d4f6a500-ccf7-427e-99f7-3c21a1c82628')\"\n",
              "            title=\"Convert this dataframe to an interactive table.\"\n",
              "            style=\"display:none;\">\n",
              "\n",
              "  <svg xmlns=\"http://www.w3.org/2000/svg\" height=\"24px\" viewBox=\"0 -960 960 960\">\n",
              "    <path d=\"M120-120v-720h720v720H120Zm60-500h600v-160H180v160Zm220 220h160v-160H400v160Zm0 220h160v-160H400v160ZM180-400h160v-160H180v160Zm440 0h160v-160H620v160ZM180-180h160v-160H180v160Zm440 0h160v-160H620v160Z\"/>\n",
              "  </svg>\n",
              "    </button>\n",
              "\n",
              "  <style>\n",
              "    .colab-df-container {\n",
              "      display:flex;\n",
              "      gap: 12px;\n",
              "    }\n",
              "\n",
              "    .colab-df-convert {\n",
              "      background-color: #E8F0FE;\n",
              "      border: none;\n",
              "      border-radius: 50%;\n",
              "      cursor: pointer;\n",
              "      display: none;\n",
              "      fill: #1967D2;\n",
              "      height: 32px;\n",
              "      padding: 0 0 0 0;\n",
              "      width: 32px;\n",
              "    }\n",
              "\n",
              "    .colab-df-convert:hover {\n",
              "      background-color: #E2EBFA;\n",
              "      box-shadow: 0px 1px 2px rgba(60, 64, 67, 0.3), 0px 1px 3px 1px rgba(60, 64, 67, 0.15);\n",
              "      fill: #174EA6;\n",
              "    }\n",
              "\n",
              "    .colab-df-buttons div {\n",
              "      margin-bottom: 4px;\n",
              "    }\n",
              "\n",
              "    [theme=dark] .colab-df-convert {\n",
              "      background-color: #3B4455;\n",
              "      fill: #D2E3FC;\n",
              "    }\n",
              "\n",
              "    [theme=dark] .colab-df-convert:hover {\n",
              "      background-color: #434B5C;\n",
              "      box-shadow: 0px 1px 3px 1px rgba(0, 0, 0, 0.15);\n",
              "      filter: drop-shadow(0px 1px 2px rgba(0, 0, 0, 0.3));\n",
              "      fill: #FFFFFF;\n",
              "    }\n",
              "  </style>\n",
              "\n",
              "    <script>\n",
              "      const buttonEl =\n",
              "        document.querySelector('#df-d4f6a500-ccf7-427e-99f7-3c21a1c82628 button.colab-df-convert');\n",
              "      buttonEl.style.display =\n",
              "        google.colab.kernel.accessAllowed ? 'block' : 'none';\n",
              "\n",
              "      async function convertToInteractive(key) {\n",
              "        const element = document.querySelector('#df-d4f6a500-ccf7-427e-99f7-3c21a1c82628');\n",
              "        const dataTable =\n",
              "          await google.colab.kernel.invokeFunction('convertToInteractive',\n",
              "                                                    [key], {});\n",
              "        if (!dataTable) return;\n",
              "\n",
              "        const docLinkHtml = 'Like what you see? Visit the ' +\n",
              "          '<a target=\"_blank\" href=https://colab.research.google.com/notebooks/data_table.ipynb>data table notebook</a>'\n",
              "          + ' to learn more about interactive tables.';\n",
              "        element.innerHTML = '';\n",
              "        dataTable['output_type'] = 'display_data';\n",
              "        await google.colab.output.renderOutput(dataTable, element);\n",
              "        const docLink = document.createElement('div');\n",
              "        docLink.innerHTML = docLinkHtml;\n",
              "        element.appendChild(docLink);\n",
              "      }\n",
              "    </script>\n",
              "  </div>\n",
              "\n",
              "\n",
              "    <div id=\"df-ea34781e-ffce-4b24-813d-1b26f04fb601\">\n",
              "      <button class=\"colab-df-quickchart\" onclick=\"quickchart('df-ea34781e-ffce-4b24-813d-1b26f04fb601')\"\n",
              "                title=\"Suggest charts\"\n",
              "                style=\"display:none;\">\n",
              "\n",
              "<svg xmlns=\"http://www.w3.org/2000/svg\" height=\"24px\"viewBox=\"0 0 24 24\"\n",
              "     width=\"24px\">\n",
              "    <g>\n",
              "        <path d=\"M19 3H5c-1.1 0-2 .9-2 2v14c0 1.1.9 2 2 2h14c1.1 0 2-.9 2-2V5c0-1.1-.9-2-2-2zM9 17H7v-7h2v7zm4 0h-2V7h2v10zm4 0h-2v-4h2v4z\"/>\n",
              "    </g>\n",
              "</svg>\n",
              "      </button>\n",
              "\n",
              "<style>\n",
              "  .colab-df-quickchart {\n",
              "      --bg-color: #E8F0FE;\n",
              "      --fill-color: #1967D2;\n",
              "      --hover-bg-color: #E2EBFA;\n",
              "      --hover-fill-color: #174EA6;\n",
              "      --disabled-fill-color: #AAA;\n",
              "      --disabled-bg-color: #DDD;\n",
              "  }\n",
              "\n",
              "  [theme=dark] .colab-df-quickchart {\n",
              "      --bg-color: #3B4455;\n",
              "      --fill-color: #D2E3FC;\n",
              "      --hover-bg-color: #434B5C;\n",
              "      --hover-fill-color: #FFFFFF;\n",
              "      --disabled-bg-color: #3B4455;\n",
              "      --disabled-fill-color: #666;\n",
              "  }\n",
              "\n",
              "  .colab-df-quickchart {\n",
              "    background-color: var(--bg-color);\n",
              "    border: none;\n",
              "    border-radius: 50%;\n",
              "    cursor: pointer;\n",
              "    display: none;\n",
              "    fill: var(--fill-color);\n",
              "    height: 32px;\n",
              "    padding: 0;\n",
              "    width: 32px;\n",
              "  }\n",
              "\n",
              "  .colab-df-quickchart:hover {\n",
              "    background-color: var(--hover-bg-color);\n",
              "    box-shadow: 0 1px 2px rgba(60, 64, 67, 0.3), 0 1px 3px 1px rgba(60, 64, 67, 0.15);\n",
              "    fill: var(--button-hover-fill-color);\n",
              "  }\n",
              "\n",
              "  .colab-df-quickchart-complete:disabled,\n",
              "  .colab-df-quickchart-complete:disabled:hover {\n",
              "    background-color: var(--disabled-bg-color);\n",
              "    fill: var(--disabled-fill-color);\n",
              "    box-shadow: none;\n",
              "  }\n",
              "\n",
              "  .colab-df-spinner {\n",
              "    border: 2px solid var(--fill-color);\n",
              "    border-color: transparent;\n",
              "    border-bottom-color: var(--fill-color);\n",
              "    animation:\n",
              "      spin 1s steps(1) infinite;\n",
              "  }\n",
              "\n",
              "  @keyframes spin {\n",
              "    0% {\n",
              "      border-color: transparent;\n",
              "      border-bottom-color: var(--fill-color);\n",
              "      border-left-color: var(--fill-color);\n",
              "    }\n",
              "    20% {\n",
              "      border-color: transparent;\n",
              "      border-left-color: var(--fill-color);\n",
              "      border-top-color: var(--fill-color);\n",
              "    }\n",
              "    30% {\n",
              "      border-color: transparent;\n",
              "      border-left-color: var(--fill-color);\n",
              "      border-top-color: var(--fill-color);\n",
              "      border-right-color: var(--fill-color);\n",
              "    }\n",
              "    40% {\n",
              "      border-color: transparent;\n",
              "      border-right-color: var(--fill-color);\n",
              "      border-top-color: var(--fill-color);\n",
              "    }\n",
              "    60% {\n",
              "      border-color: transparent;\n",
              "      border-right-color: var(--fill-color);\n",
              "    }\n",
              "    80% {\n",
              "      border-color: transparent;\n",
              "      border-right-color: var(--fill-color);\n",
              "      border-bottom-color: var(--fill-color);\n",
              "    }\n",
              "    90% {\n",
              "      border-color: transparent;\n",
              "      border-bottom-color: var(--fill-color);\n",
              "    }\n",
              "  }\n",
              "</style>\n",
              "\n",
              "      <script>\n",
              "        async function quickchart(key) {\n",
              "          const quickchartButtonEl =\n",
              "            document.querySelector('#' + key + ' button');\n",
              "          quickchartButtonEl.disabled = true;  // To prevent multiple clicks.\n",
              "          quickchartButtonEl.classList.add('colab-df-spinner');\n",
              "          try {\n",
              "            const charts = await google.colab.kernel.invokeFunction(\n",
              "                'suggestCharts', [key], {});\n",
              "          } catch (error) {\n",
              "            console.error('Error during call to suggestCharts:', error);\n",
              "          }\n",
              "          quickchartButtonEl.classList.remove('colab-df-spinner');\n",
              "          quickchartButtonEl.classList.add('colab-df-quickchart-complete');\n",
              "        }\n",
              "        (() => {\n",
              "          let quickchartButtonEl =\n",
              "            document.querySelector('#df-ea34781e-ffce-4b24-813d-1b26f04fb601 button');\n",
              "          quickchartButtonEl.style.display =\n",
              "            google.colab.kernel.accessAllowed ? 'block' : 'none';\n",
              "        })();\n",
              "      </script>\n",
              "    </div>\n",
              "\n",
              "    </div>\n",
              "  </div>\n"
            ],
            "application/vnd.google.colaboratory.intrinsic+json": {
              "type": "dataframe",
              "summary": "{\n  \"name\": \"df[['spo2', 'pr_spo2_ratio']]\",\n  \"rows\": 5,\n  \"fields\": [\n    {\n      \"column\": \"spo2\",\n      \"properties\": {\n        \"dtype\": \"number\",\n        \"std\": 9.914635646356352,\n        \"min\": 74.0,\n        \"max\": 99.0,\n        \"num_unique_values\": 5,\n        \"samples\": [\n          93.0,\n          97.0,\n          90.0\n        ],\n        \"semantic_type\": \"\",\n        \"description\": \"\"\n      }\n    },\n    {\n      \"column\": \"pr_spo2_ratio\",\n      \"properties\": {\n        \"dtype\": \"number\",\n        \"std\": 0.048347037619908606,\n        \"min\": 0.972972972972973,\n        \"max\": 1.101010101010101,\n        \"num_unique_values\": 5,\n        \"samples\": [\n          1.0,\n          1.041237113402062,\n          1.0222222222222221\n        ],\n        \"semantic_type\": \"\",\n        \"description\": \"\"\n      }\n    }\n  ]\n}"
            }
          },
          "metadata": {},
          "execution_count": 26
        }
      ]
    },
    {
      "cell_type": "code",
      "source": [
        "#22\n",
        "X = X.drop(columns=['pr_spo2_ratio'])\n"
      ],
      "metadata": {
        "id": "3lhy6WUyysyD"
      },
      "execution_count": null,
      "outputs": []
    },
    {
      "cell_type": "code",
      "source": [
        "#23\n",
        "import numpy as np\n",
        "\n",
        "print(\"Columns in X:\", X.columns.tolist())\n",
        "print(\"'spo2' in X columns?\", 'spo2' in X.columns)\n",
        "\n",
        "identical_cols = [col for col in X.columns if np.array_equal(X[col].values, y.values)]\n",
        "approx_identical = [col for col in X.columns\n",
        "                    if np.allclose(X[col].astype(float).values,\n",
        "                                   y.astype(float).values, atol=1e-6)]\n",
        "print(\"Columns identical to y:\", identical_cols)\n",
        "print(\"Columns approx equal to y:\", approx_identical)\n"
      ],
      "metadata": {
        "colab": {
          "base_uri": "https://localhost:8080/"
        },
        "id": "6QR00fjOyts9",
        "outputId": "fd38b0ee-9672-4d31-f050-c2242c40e904"
      },
      "execution_count": null,
      "outputs": [
        {
          "output_type": "stream",
          "name": "stdout",
          "text": [
            "Columns in X: ['age', 'pr', 'oxy_flow', 'pr_mean', 'pr_std', 'pr_skew', 'pr_kurtosis', 'gender_1', 'c/nc_1.0']\n",
            "'spo2' in X columns? False\n",
            "Columns identical to y: []\n",
            "Columns approx equal to y: []\n"
          ]
        }
      ]
    },
    {
      "cell_type": "code",
      "source": [
        "#24\n",
        "corrs = df.drop(columns=['pr_spo2_ratio']).corr().get('spo2').drop('spo2').abs().sort_values(ascending=False)\n",
        "print(\"\\nTop correlations with spo2:\\n\", corrs.head(10))\n"
      ],
      "metadata": {
        "colab": {
          "base_uri": "https://localhost:8080/"
        },
        "id": "dgQ8MFKNywYg",
        "outputId": "b106d889-ac86-4584-8017-d9b2b43dbd36"
      },
      "execution_count": null,
      "outputs": [
        {
          "output_type": "stream",
          "name": "stdout",
          "text": [
            "\n",
            "Top correlations with spo2:\n",
            " pr_mean        0.054312\n",
            "pr             0.054312\n",
            "oxy_flow       0.033767\n",
            "gender         0.032895\n",
            "age            0.009166\n",
            "c/nc           0.008032\n",
            "pr_std              NaN\n",
            "pr_skew             NaN\n",
            "pr_kurtosis         NaN\n",
            "Name: spo2, dtype: float64\n"
          ]
        }
      ]
    },
    {
      "cell_type": "code",
      "source": [
        "#25\n",
        "print(\"Columns in X before training:\", X.columns.tolist())\n"
      ],
      "metadata": {
        "colab": {
          "base_uri": "https://localhost:8080/"
        },
        "id": "DRTBZiCKvlvu",
        "outputId": "2c1e5783-c815-4a86-edf5-3ef7ad14c742"
      },
      "execution_count": null,
      "outputs": [
        {
          "output_type": "stream",
          "name": "stdout",
          "text": [
            "Columns in X before training: ['age', 'pr', 'oxy_flow', 'pr_mean', 'pr_std', 'pr_skew', 'pr_kurtosis', 'gender_1', 'c/nc_1.0']\n"
          ]
        }
      ]
    },
    {
      "cell_type": "code",
      "source": [
        "#26\n",
        "from sklearn.model_selection import train_test_split\n",
        "X_train, X_test, y_train, y_test = train_test_split(\n",
        "    X,        # use the unscaled X here\n",
        "    y,\n",
        "    test_size=0.2,\n",
        "    random_state=42\n",
        ")\n",
        "print(\"X_train shape:\", X_train.shape)\n",
        "print(\"X_test shape:\", X_test.shape)\n",
        "#Splits the scaled dataset with extracted features into training and test sets to prepare for model training and evaluation"
      ],
      "metadata": {
        "colab": {
          "base_uri": "https://localhost:8080/"
        },
        "id": "dAUkP7EKlK8R",
        "outputId": "a65af18a-5b05-4960-b653-489bcf807789"
      },
      "execution_count": null,
      "outputs": [
        {
          "output_type": "stream",
          "name": "stdout",
          "text": [
            "X_train shape: (70085, 9)\n",
            "X_test shape: (17522, 9)\n"
          ]
        }
      ]
    },
    {
      "cell_type": "code",
      "source": [
        "# 27 Scale Features safely-Standardizes feature values to have zero mean and unit variance, ensuring all features contribute equally to model training.\n",
        "from sklearn.preprocessing import StandardScaler\n",
        "\n",
        "# Initialize scaler\n",
        "scaler = StandardScaler()\n",
        "\n",
        "# Fit scaler on training data and transform\n",
        "# We'll scale full dataset here — it's small (~70k x 5), so safe\n",
        "X_train_scaled = scaler.fit_transform(X_train)\n",
        "X_test_scaled = scaler.transform(X_test)\n",
        "\n",
        "print(\"✅ Scaling complete\")\n",
        "print(\"X_train_scaled shape:\", X_train_scaled.shape)\n",
        "print(\"X_test_scaled shape:\", X_test_scaled.shape)\n"
      ],
      "metadata": {
        "colab": {
          "base_uri": "https://localhost:8080/"
        },
        "id": "h5VKfPjKlK5T",
        "outputId": "51847a23-b64b-4ff5-d200-039c245043f7"
      },
      "execution_count": null,
      "outputs": [
        {
          "output_type": "stream",
          "name": "stdout",
          "text": [
            "✅ Scaling complete\n",
            "X_train_scaled shape: (70085, 9)\n",
            "X_test_scaled shape: (17522, 9)\n"
          ]
        }
      ]
    },
    {
      "cell_type": "code",
      "source": [
        "# 28 Train Gaussian Process Regressor safely-Trains a Gaussian Process Regressor on a memory-safe subset of the scaled training data to model SpO₂ while limiting RAM usage and computation time.\n",
        "from sklearn.gaussian_process import GaussianProcessRegressor\n",
        "from sklearn.gaussian_process.kernels import RBF, ConstantKernel as C\n",
        "from sklearn.model_selection import train_test_split\n",
        "\n",
        "# --- SUBSET TRAINING DATA ---\n",
        "subset_size = 4000  # choose a size that fits in RAM\n",
        "X_train_sub, _, y_train_sub, _ = train_test_split(\n",
        "    X_train_scaled, y_train, train_size=subset_size, random_state=42\n",
        ")\n",
        "print(f\"Training GPR on subset of size: {X_train_sub.shape[0]} samples\")\n",
        "\n",
        "# --- DEFINE KERNEL ---\n",
        "kernel = C(1.0, (1e-3, 1e3)) * RBF(length_scale=1.0, length_scale_bounds=(1e-2, 1e2))\n",
        "\n",
        "# --- INITIALIZE GPR ---\n",
        "gpr = GaussianProcessRegressor(\n",
        "    kernel=kernel,\n",
        "    n_restarts_optimizer=1,  # reduce from 10 to save memory/time\n",
        "    alpha=1e-2,\n",
        "    random_state=42\n",
        ")\n",
        "\n",
        "# --- TRAIN GPR ---\n",
        "try:\n",
        "    gpr.fit(X_train_sub, y_train_sub)\n",
        "    print(\"✅ GPR trained successfully on subset!\")\n",
        "except Exception as e:\n",
        "    print(\"❌ GPR training failed:\", e)\n"
      ],
      "metadata": {
        "colab": {
          "base_uri": "https://localhost:8080/"
        },
        "id": "bt0nNa-UlK2M",
        "outputId": "74d90355-25ab-4f01-fc7d-ef97e0a5f24a"
      },
      "execution_count": null,
      "outputs": [
        {
          "output_type": "stream",
          "name": "stdout",
          "text": [
            "Training GPR on subset of size: 4000 samples\n"
          ]
        },
        {
          "output_type": "stream",
          "name": "stderr",
          "text": [
            "/usr/local/lib/python3.12/dist-packages/sklearn/gaussian_process/kernels.py:452: ConvergenceWarning: The optimal value found for dimension 0 of parameter k1__constant_value is close to the specified upper bound 1000.0. Increasing the bound and calling fit again may find a better value.\n",
            "  warnings.warn(\n"
          ]
        },
        {
          "output_type": "stream",
          "name": "stdout",
          "text": [
            "✅ GPR trained successfully on subset!\n"
          ]
        }
      ]
    },
    {
      "cell_type": "code",
      "source": [
        "#29 Predicts SpO₂ on the test set, evaluates model performance with MSE, MAE, and R², and visualizes predictions and residuals to assess accuracy and error patterns.\n",
        "from sklearn.metrics import mean_squared_error, mean_absolute_error, r2_score\n",
        "import matplotlib.pyplot as plt\n",
        "\n",
        "# Predict on the full test set\n",
        "y_pred = gpr.predict(X_test)\n",
        "\n",
        "# Evaluate performance\n",
        "mse = mean_squared_error(y_test, y_pred)\n",
        "mae = mean_absolute_error(y_test, y_pred)\n",
        "r2 = r2_score(y_test, y_pred)\n",
        "\n",
        "print(f\"Test set samples: {X_test.shape[0]}\")\n",
        "print(f\"Test MSE: {mse:.3f}\")\n",
        "print(f\"Test MAE: {mae:.3f}\")\n",
        "print(f\"Test R2 score: {r2:.3f}\")\n",
        "\n",
        "# Plot Predicted vs True\n",
        "plt.figure(figsize=(6,6))\n",
        "plt.scatter(y_test, y_pred, alpha=0.5, edgecolor='k')\n",
        "plt.plot([y_test.min(), y_test.max()], [y_test.min(), y_test.max()], 'r--', linewidth=2)\n",
        "plt.xlabel('True SpO2')\n",
        "plt.ylabel('Predicted SpO2')\n",
        "plt.title('GPR Predictions vs True Values')\n",
        "plt.grid(True)\n",
        "plt.show()\n",
        "\n",
        "# Residuals\n",
        "residuals = y_test - y_pred\n",
        "\n",
        "plt.figure(figsize=(6,4))\n",
        "plt.hist(residuals, bins=50, edgecolor='k', alpha=0.7)\n",
        "plt.xlabel('Residual (True - Predicted)')\n",
        "plt.ylabel('Frequency')\n",
        "plt.title('Histogram of Residuals')\n",
        "plt.show()\n",
        "\n",
        "plt.figure(figsize=(6,4))\n",
        "plt.scatter(y_pred, residuals, alpha=0.5)\n",
        "plt.axhline(0, color='r', linestyle='--')\n",
        "plt.xlabel('Predicted SpO2')\n",
        "plt.ylabel('Residual')\n",
        "plt.title('Residuals vs Predicted SpO2')\n",
        "plt.show()"
      ],
      "metadata": {
        "colab": {
          "base_uri": "https://localhost:8080/",
          "height": 1000
        },
        "id": "VjcNbZRJlKzV",
        "outputId": "2d15c25b-13b9-4746-8689-36bac11ea70d"
      },
      "execution_count": null,
      "outputs": [
        {
          "output_type": "stream",
          "name": "stderr",
          "text": [
            "/usr/local/lib/python3.12/dist-packages/sklearn/utils/validation.py:2732: UserWarning: X has feature names, but GaussianProcessRegressor was fitted without feature names\n",
            "  warnings.warn(\n"
          ]
        },
        {
          "output_type": "stream",
          "name": "stdout",
          "text": [
            "Test set samples: 17522\n",
            "Test MSE: 8756.597\n",
            "Test MAE: 93.229\n",
            "Test R2 score: -133.897\n"
          ]
        },
        {
          "output_type": "display_data",
          "data": {
            "text/plain": [
              "<Figure size 600x600 with 1 Axes>"
            ],
            "image/png": "[encoded data removed]"
          },
          "metadata": {}
        },
        {
          "output_type": "display_data",
          "data": {
            "text/plain": [
              "<Figure size 600x400 with 1 Axes>"
            ],
            "image/png": "[encoded data removed]"
          },
          "metadata": {}
        },
        {
          "output_type": "display_data",
          "data": {
            "text/plain": [
              "<Figure size 600x400 with 1 Axes>"
            ],
            "image/png": "[encoded data removed]"
          },
          "metadata": {}
        }
      ]
    },
    {
      "cell_type": "code",
      "source": [
        "#30\n",
        "import numpy as np\n",
        "\n",
        "rmse = np.sqrt(mse)\n",
        "print(f\"Test RMSE: {rmse:.3f}\")"
      ],
      "metadata": {
        "colab": {
          "base_uri": "https://localhost:8080/"
        },
        "id": "Ak_5U5rmlegm",
        "outputId": "29126bc6-55b8-4d9c-f565-4e18a93e0f61"
      },
      "execution_count": null,
      "outputs": [
        {
          "output_type": "stream",
          "name": "stdout",
          "text": [
            "Test RMSE: 93.577\n"
          ]
        }
      ]
    },
    {
      "cell_type": "code",
      "source": [
        "#31 calculated prediction uncertainty from the GPR\n",
        "y_pred, y_std = gpr.predict(X_test_scaled, return_std=True)"
      ],
      "metadata": {
        "id": "1ObgEQN-lecu"
      },
      "execution_count": null,
      "outputs": []
    },
    {
      "cell_type": "code",
      "source": [
        "#32\n",
        "import joblib\n",
        "joblib.dump(gpr, 'gpr_spo2_model.pkl')\n",
        "#Save the Model to reuse it without retraining."
      ],
      "metadata": {
        "colab": {
          "base_uri": "https://localhost:8080/"
        },
        "id": "7-Qt-tUdleZL",
        "outputId": "ed192e3c-c38d-44d0-b279-e90f1cc05e00"
      },
      "execution_count": null,
      "outputs": [
        {
          "output_type": "execute_result",
          "data": {
            "text/plain": [
              "['gpr_spo2_model.pkl']"
            ]
          },
          "metadata": {},
          "execution_count": 37
        }
      ]
    },
    {
      "cell_type": "code",
      "source": [
        "#33\n",
        "from sklearn.model_selection import KFold\n",
        "from sklearn.gaussian_process import GaussianProcessRegressor\n",
        "from sklearn.gaussian_process.kernels import RBF, ConstantKernel as C\n",
        "from sklearn.metrics import mean_squared_error, mean_absolute_error, r2_score\n",
        "import numpy as np\n",
        "\n",
        "# ----------------------------\n",
        "# PARAMETERS (SAFE FOR COLAB)\n",
        "# ----------------------------\n",
        "subset_size = 2000  # smaller subset to reduce RAM usage\n",
        "n_splits = 3        # fewer folds for faster run\n",
        "n_restarts = 1      # optimizer restarts (1 for speed)\n",
        "\n",
        "# Use a subset of the training data\n",
        "X_subset = X_train_scaled[:subset_size]\n",
        "y_subset = y_train[:subset_size]\n",
        "\n",
        "# Define GPR kernel\n",
        "kernel = C(1.0, (1e-3, 1e3)) * RBF(length_scale=1.0, length_scale_bounds=(1e-2, 1e2))\n",
        "\n",
        "# Initialize K-Fold\n",
        "kf = KFold(n_splits=n_splits, shuffle=True, random_state=42)\n",
        "\n",
        "mae_list = []\n",
        "rmse_list = []\n",
        "r2_list = []\n",
        "\n",
        "# ----------------------------\n",
        "# K-FOLD CROSS-VALIDATION\n",
        "# ----------------------------\n",
        "fold = 1\n",
        "for train_idx, val_idx in kf.split(X_subset):\n",
        "    X_tr, X_val = X_subset[train_idx], X_subset[val_idx]\n",
        "    y_tr, y_val = y_subset.iloc[train_idx], y_subset.iloc[val_idx]\n",
        "\n",
        "    # Initialize GPR\n",
        "    gpr = GaussianProcessRegressor(\n",
        "        kernel=kernel,\n",
        "        n_restarts_optimizer=n_restarts,\n",
        "        alpha=1e-2,\n",
        "        random_state=42\n",
        "    )\n",
        "\n",
        "    # Fit GPR\n",
        "    gpr.fit(X_tr, y_tr)\n",
        "\n",
        "    # Predict on validation fold\n",
        "    y_pred = gpr.predict(X_val)\n",
        "\n",
        "    # Metrics\n",
        "    mae_fold = mean_absolute_error(y_val, y_pred)\n",
        "    rmse_fold = np.sqrt(mean_squared_error(y_val, y_pred))\n",
        "    r2_fold = r2_score(y_val, y_pred)\n",
        "\n",
        "    print(f\"Fold {fold} - MAE: {mae_fold:.3f}, RMSE: {rmse_fold:.3f}, R2: {r2_fold:.3f}\")\n",
        "\n",
        "    mae_list.append(mae_fold)\n",
        "    rmse_list.append(rmse_fold)\n",
        "    r2_list.append(r2_fold)\n",
        "\n",
        "    fold += 1\n",
        "\n",
        "# ----------------------------\n",
        "# AVERAGE METRICS\n",
        "# ----------------------------\n",
        "print(\"\\n✅ K-Fold Cross-Validation Results (subset)\")\n",
        "print(f\"Average MAE: {np.mean(mae_list):.3f}\")\n",
        "print(f\"Average RMSE: {np.mean(rmse_list):.3f}\")\n",
        "print(f\"Average R2: {np.mean(r2_list):.3f}\")"
      ],
      "metadata": {
        "colab": {
          "base_uri": "https://localhost:8080/"
        },
        "id": "7kAKvfOglKwV",
        "outputId": "f1b4cd39-ddf3-4daa-d25f-c6799ec4ac00"
      },
      "execution_count": null,
      "outputs": [
        {
          "output_type": "stream",
          "name": "stderr",
          "text": [
            "/usr/local/lib/python3.12/dist-packages/sklearn/gaussian_process/kernels.py:452: ConvergenceWarning: The optimal value found for dimension 0 of parameter k1__constant_value is close to the specified upper bound 1000.0. Increasing the bound and calling fit again may find a better value.\n",
            "  warnings.warn(\n"
          ]
        },
        {
          "output_type": "stream",
          "name": "stdout",
          "text": [
            "Fold 1 - MAE: 57.627, RMSE: 66.310, R2: -71.164\n"
          ]
        },
        {
          "output_type": "stream",
          "name": "stderr",
          "text": [
            "/usr/local/lib/python3.12/dist-packages/sklearn/gaussian_process/kernels.py:452: ConvergenceWarning: The optimal value found for dimension 0 of parameter k1__constant_value is close to the specified upper bound 1000.0. Increasing the bound and calling fit again may find a better value.\n",
            "  warnings.warn(\n"
          ]
        },
        {
          "output_type": "stream",
          "name": "stdout",
          "text": [
            "Fold 2 - MAE: 58.267, RMSE: 66.786, R2: -72.726\n"
          ]
        },
        {
          "output_type": "stream",
          "name": "stderr",
          "text": [
            "/usr/local/lib/python3.12/dist-packages/sklearn/gaussian_process/kernels.py:452: ConvergenceWarning: The optimal value found for dimension 0 of parameter k1__constant_value is close to the specified upper bound 1000.0. Increasing the bound and calling fit again may find a better value.\n",
            "  warnings.warn(\n"
          ]
        },
        {
          "output_type": "stream",
          "name": "stdout",
          "text": [
            "Fold 3 - MAE: 60.465, RMSE: 68.949, R2: -84.987\n",
            "\n",
            "✅ K-Fold Cross-Validation Results (subset)\n",
            "Average MAE: 58.787\n",
            "Average RMSE: 67.348\n",
            "Average R2: -76.293\n"
          ]
        }
      ]
    },
    {
      "cell_type": "code",
      "source": [
        "#34\n",
        "from sklearn.ensemble import RandomForestRegressor\n",
        "from sklearn.model_selection import KFold\n",
        "from sklearn.metrics import mean_absolute_error, mean_squared_error, r2_score\n",
        "import numpy as np\n",
        "\n",
        "# Parameters\n",
        "n_splits = 3          # number of folds for cross-validation\n",
        "n_trees = 100         # number of trees in the forest\n",
        "\n",
        "# Initialize K-Fold\n",
        "kf = KFold(n_splits=n_splits, shuffle=True, random_state=42)\n",
        "\n",
        "# Initialize model\n",
        "rf = RandomForestRegressor(\n",
        "    n_estimators=n_trees,\n",
        "    max_depth=None,\n",
        "    random_state=42,\n",
        "    n_jobs=-1   # use all CPU cores for faster training\n",
        ")\n",
        "\n",
        "mae_list, rmse_list, r2_list = [], [], []\n",
        "\n",
        "# K-Fold Cross-Validation\n",
        "fold = 1\n",
        "for train_idx, val_idx in kf.split(X_train_scaled):\n",
        "    X_tr, X_val = X_train_scaled[train_idx], X_train_scaled[val_idx]\n",
        "    y_tr, y_val = y_train.iloc[train_idx], y_train.iloc[val_idx]\n",
        "\n",
        "    rf.fit(X_tr, y_tr)\n",
        "    y_pred = rf.predict(X_val)\n",
        "\n",
        "    mae = mean_absolute_error(y_val, y_pred)\n",
        "    rmse = np.sqrt(mean_squared_error(y_val, y_pred))\n",
        "    r2 = r2_score(y_val, y_pred)\n",
        "\n",
        "    print(f\"Fold {fold} - MAE: {mae:.3f}, RMSE: {rmse:.3f}, R2: {r2:.3f}\")\n",
        "    mae_list.append(mae)\n",
        "    rmse_list.append(rmse)\n",
        "    r2_list.append(r2)\n",
        "    fold += 1\n",
        "\n",
        "# Final averaged results\n",
        "print(\"\\n✅ K-Fold Cross-Validation Results (Random Forest)\")\n",
        "print(f\"Average MAE: {np.mean(mae_list):.3f}\")\n",
        "print(f\"Average RMSE: {np.mean(rmse_list):.3f}\")\n",
        "print(f\"Average R2: {np.mean(r2_list):.3f}\")\n"
      ],
      "metadata": {
        "colab": {
          "base_uri": "https://localhost:8080/"
        },
        "id": "djYaTt1tfELY",
        "outputId": "3d620b45-a772-494e-f64c-efd505db7c7f"
      },
      "execution_count": null,
      "outputs": [
        {
          "output_type": "stream",
          "name": "stdout",
          "text": [
            "Fold 1 - MAE: 6.942, RMSE: 8.685, R2: -0.197\n",
            "Fold 2 - MAE: 6.976, RMSE: 8.715, R2: -0.199\n",
            "Fold 3 - MAE: 7.019, RMSE: 8.780, R2: -0.220\n",
            "\n",
            "✅ K-Fold Cross-Validation Results (Random Forest)\n",
            "Average MAE: 6.979\n",
            "Average RMSE: 8.727\n",
            "Average R2: -0.205\n"
          ]
        }
      ]
    },
    {
      "cell_type": "code",
      "source": [
        "#35\n",
        "from sklearn.ensemble import GradientBoostingRegressor\n",
        "from sklearn.model_selection import KFold\n",
        "from sklearn.metrics import mean_absolute_error, mean_squared_error, r2_score\n",
        "import numpy as np\n",
        "\n",
        "gbr = GradientBoostingRegressor(random_state=42)\n",
        "kf = KFold(n_splits=3, shuffle=True, random_state=42)\n",
        "\n",
        "mae_list, rmse_list, r2_list = [], [], []\n",
        "for train_idx, val_idx in kf.split(X_train_scaled):\n",
        "    X_tr, X_val = X_train_scaled[train_idx], X_train_scaled[val_idx]\n",
        "    y_tr, y_val = y_train.iloc[train_idx], y_train.iloc[val_idx]\n",
        "\n",
        "    gbr.fit(X_tr, y_tr)\n",
        "    y_pred = gbr.predict(X_val)\n",
        "\n",
        "    mae_list.append(mean_absolute_error(y_val, y_pred))\n",
        "    rmse_list.append(np.sqrt(mean_squared_error(y_val, y_pred)))\n",
        "    r2_list.append(r2_score(y_val, y_pred))\n",
        "\n",
        "print(\"\\n✅ K-Fold Cross-Validation Results (Gradient Boosting)\")\n",
        "print(f\"Average MAE: {np.mean(mae_list):.3f}\")\n",
        "print(f\"Average RMSE: {np.mean(rmse_list):.3f}\")\n",
        "print(f\"Average R2: {np.mean(r2_list):.3f}\")\n"
      ],
      "metadata": {
        "colab": {
          "base_uri": "https://localhost:8080/"
        },
        "id": "TDo-Vpa0g0qL",
        "outputId": "e566f0d3-cbe9-46f6-9a1a-37a2dab66790"
      },
      "execution_count": null,
      "outputs": [
        {
          "output_type": "stream",
          "name": "stdout",
          "text": [
            "\n",
            "✅ K-Fold Cross-Validation Results (Gradient Boosting)\n",
            "Average MAE: 6.556\n",
            "Average RMSE: 7.931\n",
            "Average R2: 0.005\n"
          ]
        }
      ]
    },
    {
      "cell_type": "code",
      "source": [
        "#36\n",
        "print(\"X_train_scaled shape:\", X_train_scaled.shape)\n",
        "print(\"y_train shape:\", y_train.shape)\n"
      ],
      "metadata": {
        "colab": {
          "base_uri": "https://localhost:8080/"
        },
        "id": "MdOQM_RFd8UX",
        "outputId": "04682bc8-799b-47c8-e66f-99ffdb69fe3c"
      },
      "execution_count": null,
      "outputs": [
        {
          "output_type": "stream",
          "name": "stdout",
          "text": [
            "X_train_scaled shape: (70085, 9)\n",
            "y_train shape: (70085,)\n"
          ]
        }
      ]
    },
    {
      "cell_type": "markdown",
      "source": [
        "Hypoxemia Prediction"
      ],
      "metadata": {
        "id": "tFFcnVGsln7a"
      }
    },
    {
      "cell_type": "markdown",
      "source": [
        "create coloumn"
      ],
      "metadata": {
        "id": "Q9bJoHrSvPa7"
      }
    },
    {
      "cell_type": "code",
      "source": [
        "#37\n",
        "# Define threshold\n",
        "threshold = 90   # or 94 depending on your clinical target\n",
        "\n",
        "# New binary target column\n",
        "df_encoded['hypoxemia'] = (df_encoded['spo2'] < threshold).astype(int)\n",
        "\n",
        "# Features (drop both spo2 and old ratio)\n",
        "X = df_encoded.drop(columns=['spo2'])\n",
        "y = df_encoded['hypoxemia']\n",
        "\n",
        "print(y.value_counts())   # check class balance\n"
      ],
      "metadata": {
        "colab": {
          "base_uri": "https://localhost:8080/"
        },
        "id": "oXsV0nVolKsp",
        "outputId": "f53d040a-995d-4862-ca2a-544698948166"
      },
      "execution_count": null,
      "outputs": [
        {
          "output_type": "stream",
          "name": "stdout",
          "text": [
            "hypoxemia\n",
            "0    64300\n",
            "1    23307\n",
            "Name: count, dtype: int64\n"
          ]
        }
      ]
    },
    {
      "cell_type": "code",
      "source": [
        "#38\n",
        "[col for col in df_encoded.columns if 'spo2' in col.lower()]\n"
      ],
      "metadata": {
        "colab": {
          "base_uri": "https://localhost:8080/"
        },
        "id": "tYQDz6wwIFfX",
        "outputId": "e36aada1-8d59-4d7c-d2d5-7b095dd6eec2"
      },
      "execution_count": null,
      "outputs": [
        {
          "output_type": "execute_result",
          "data": {
            "text/plain": [
              "['spo2', 'pr_spo2_ratio']"
            ]
          },
          "metadata": {},
          "execution_count": 44
        }
      ]
    },
    {
      "cell_type": "code",
      "source": [
        "#39\n",
        "# Step 1: drop spo2-related features and confirm\n",
        "cols_to_drop = ['spo2', 'pr_spo2_ratio']\n",
        "\n",
        "# make sure 'hypoxemia' exists\n",
        "assert 'hypoxemia' in df_encoded.columns, \"hypoxemia column not found in df_encoded\"\n",
        "\n",
        "X = df_encoded.drop(columns=cols_to_drop + ['hypoxemia'])\n",
        "y = df_encoded['hypoxemia']\n",
        "\n",
        "print(\"X.shape:\", X.shape)\n",
        "print(\"y.shape:\", y.shape)\n",
        "print(\"Remaining columns (first 50):\", X.columns.tolist())\n",
        "print(\"\\nClass counts:\\n\", y.value_counts())\n",
        "print(\"\\nAny nulls in X (per column, top 10):\\n\", X.isnull().sum().sort_values(ascending=False).head(10))\n"
      ],
      "metadata": {
        "colab": {
          "base_uri": "https://localhost:8080/"
        },
        "id": "br4wdb1hIUEi",
        "outputId": "514611c4-5d13-4265-971c-ac9e52b5e625"
      },
      "execution_count": null,
      "outputs": [
        {
          "output_type": "stream",
          "name": "stdout",
          "text": [
            "X.shape: (87607, 9)\n",
            "y.shape: (87607,)\n",
            "Remaining columns (first 50): ['age', 'pr', 'oxy_flow', 'pr_mean', 'pr_std', 'pr_skew', 'pr_kurtosis', 'gender_1', 'c/nc_1.0']\n",
            "\n",
            "Class counts:\n",
            " hypoxemia\n",
            "0    64300\n",
            "1    23307\n",
            "Name: count, dtype: int64\n",
            "\n",
            "Any nulls in X (per column, top 10):\n",
            " age            0\n",
            "pr             0\n",
            "oxy_flow       0\n",
            "pr_mean        0\n",
            "pr_std         0\n",
            "pr_skew        0\n",
            "pr_kurtosis    0\n",
            "gender_1       0\n",
            "c/nc_1.0       0\n",
            "dtype: int64\n"
          ]
        }
      ]
    },
    {
      "cell_type": "code",
      "source": [
        "#40\n",
        "from sklearn.model_selection import train_test_split\n",
        "from sklearn.preprocessing import StandardScaler\n",
        "from sklearn.ensemble import GradientBoostingClassifier\n",
        "from sklearn.metrics import accuracy_score, precision_score, recall_score, f1_score, roc_auc_score, confusion_matrix\n",
        "\n",
        "# Step 2a — Train-test split (stratified)\n",
        "X_train, X_test, y_train, y_test = train_test_split(\n",
        "    X, y, test_size=0.2, random_state=42, stratify=y\n",
        ")\n",
        "\n",
        "# Step 2b — Standardize based only on training data\n",
        "scaler = StandardScaler()\n",
        "X_train_scaled = scaler.fit_transform(X_train)\n",
        "X_test_scaled = scaler.transform(X_test)\n",
        "\n",
        "# Step 2c — Train Gradient Boosting model\n",
        "gboost_clf = GradientBoostingClassifier(random_state=42)\n",
        "gboost_clf.fit(X_train_scaled, y_train)\n",
        "\n",
        "# Step 2d — Evaluate\n",
        "y_pred = gboost_clf.predict(X_test_scaled)\n",
        "y_proba = gboost_clf.predict_proba(X_test_scaled)[:, 1]\n",
        "\n",
        "print(\"Accuracy :\", accuracy_score(y_test, y_pred))\n",
        "print(\"Precision:\", precision_score(y_test, y_pred))\n",
        "print(\"Recall   :\", recall_score(y_test, y_pred))\n",
        "print(\"F1-score :\", f1_score(y_test, y_pred))\n",
        "print(\"ROC-AUC  :\", roc_auc_score(y_test, y_proba))\n",
        "print(\"Confusion matrix:\\n\", confusion_matrix(y_test, y_pred))\n"
      ],
      "metadata": {
        "colab": {
          "base_uri": "https://localhost:8080/"
        },
        "id": "f1AWEZZNIaDS",
        "outputId": "46e4a795-77ef-45dc-a816-b82085287e04"
      },
      "execution_count": null,
      "outputs": [
        {
          "output_type": "stream",
          "name": "stdout",
          "text": [
            "Accuracy : 0.7339344823650268\n",
            "Precision: 0.0\n",
            "Recall   : 0.0\n",
            "F1-score : 0.0\n",
            "ROC-AUC  : 0.5494299314866966\n",
            "Confusion matrix:\n",
            " [[12860     0]\n",
            " [ 4662     0]]\n"
          ]
        },
        {
          "output_type": "stream",
          "name": "stderr",
          "text": [
            "/usr/local/lib/python3.12/dist-packages/sklearn/metrics/_classification.py:1565: UndefinedMetricWarning: Precision is ill-defined and being set to 0.0 due to no predicted samples. Use `zero_division` parameter to control this behavior.\n",
            "  _warn_prf(average, modifier, f\"{metric.capitalize()} is\", len(result))\n"
          ]
        }
      ]
    },
    {
      "cell_type": "code",
      "source": [
        "#41\n",
        "#balance classes\n",
        "from sklearn.ensemble import GradientBoostingClassifier\n",
        "\n",
        "gboost_clf = GradientBoostingClassifier(\n",
        "    random_state=42,\n",
        "    subsample=0.9,\n",
        "    learning_rate=0.05,\n",
        "    n_estimators=300\n",
        ")\n",
        "\n",
        "# Train again\n",
        "gboost_clf.fit(X_train_scaled, y_train)\n",
        "\n",
        "y_pred = gboost_clf.predict(X_test_scaled)\n",
        "y_proba = gboost_clf.predict_proba(X_test_scaled)[:, 1]\n",
        "\n",
        "from sklearn.metrics import accuracy_score, precision_score, recall_score, f1_score, roc_auc_score, confusion_matrix\n",
        "\n",
        "print(\"Accuracy :\", accuracy_score(y_test, y_pred))\n",
        "print(\"Precision:\", precision_score(y_test, y_pred, zero_division=0))\n",
        "print(\"Recall   :\", recall_score(y_test, y_pred, zero_division=0))\n",
        "print(\"F1-score :\", f1_score(y_test, y_pred, zero_division=0))\n",
        "print(\"ROC-AUC  :\", roc_auc_score(y_test, y_proba))\n",
        "print(\"Confusion matrix:\\n\", confusion_matrix(y_test, y_pred))\n"
      ],
      "metadata": {
        "colab": {
          "base_uri": "https://localhost:8080/"
        },
        "id": "bSW7tCtaIlCz",
        "outputId": "cf7cf23d-b4c4-423b-e586-47b6ff0002a9"
      },
      "execution_count": null,
      "outputs": [
        {
          "output_type": "stream",
          "name": "stdout",
          "text": [
            "Accuracy : 0.7338203401438192\n",
            "Precision: 0.0\n",
            "Recall   : 0.0\n",
            "F1-score : 0.0\n",
            "ROC-AUC  : 0.5482710799001623\n",
            "Confusion matrix:\n",
            " [[12858     2]\n",
            " [ 4662     0]]\n"
          ]
        }
      ]
    },
    {
      "cell_type": "code",
      "source": [
        "# Utility: print sensitivity and specificity from y_true and y_pred\n",
        "def print_classification_metrics(y_true, y_pred):\n",
        "    from sklearn.metrics import confusion_matrix\n",
        "    cm = confusion_matrix(y_true, y_pred)\n",
        "    tn, fp, fn, tp = cm.ravel()\n",
        "    sensitivity = tp / (tp + fn) if (tp + fn) > 0 else 0\n",
        "    specificity = tn / (tn + fp) if (tn + fp) > 0 else 0\n",
        "    print(f\"Sensitivity (True Positive Rate): {sensitivity:.3f}\")\n",
        "    print(f\"Specificity (True Negative Rate): {specificity:.3f}\")\n"
      ],
      "metadata": {
        "id": "8trdOq-wsloW"
      },
      "execution_count": null,
      "outputs": []
    },
    {
      "cell_type": "code",
      "source": [
        "#42\n",
        "#prev failed so applying SMOTE\n",
        "from imblearn.over_sampling import SMOTE\n",
        "from sklearn.ensemble import GradientBoostingClassifier\n",
        "from sklearn.metrics import accuracy_score, precision_score, recall_score, f1_score, roc_auc_score, confusion_matrix\n",
        "\n",
        "# Step 1 – SMOTE on training data only\n",
        "sm = SMOTE(random_state=42)\n",
        "X_train_res, y_train_res = sm.fit_resample(X_train_scaled, y_train)\n",
        "\n",
        "print(\"Before SMOTE:\", y_train.value_counts().to_dict())\n",
        "print(\"After SMOTE :\", y_train_res.value_counts().to_dict())\n",
        "\n",
        "# Step 2 – Re-train model\n",
        "gboost_clf = GradientBoostingClassifier(\n",
        "    random_state=42,\n",
        "    learning_rate=0.05,\n",
        "    n_estimators=300,\n",
        "    subsample=0.9\n",
        ")\n",
        "gboost_clf.fit(X_train_res, y_train_res)\n",
        "\n",
        "# Step 3 – Evaluate\n",
        "y_pred = gboost_clf.predict(X_test_scaled)\n",
        "y_proba = gboost_clf.predict_proba(X_test_scaled)[:, 1]\n",
        "\n",
        "print(\"Accuracy :\", accuracy_score(y_test, y_pred))\n",
        "print(\"Precision:\", precision_score(y_test, y_pred, zero_division=0))\n",
        "print(\"Recall   :\", recall_score(y_test, y_pred, zero_division=0))\n",
        "print(\"F1-score :\", f1_score(y_test, y_pred, zero_division=0))\n",
        "print(\"ROC-AUC  :\", roc_auc_score(y_test, y_proba))\n",
        "print(\"Confusion matrix:\\n\", confusion_matrix(y_test, y_pred))\n",
        "\n",
        "# new: sensitivity & specificity\n",
        "print_classification_metrics(y_test, y_pred)\n",
        "\n"
      ],
      "metadata": {
        "colab": {
          "base_uri": "https://localhost:8080/"
        },
        "id": "3GlmNiskIyEb",
        "outputId": "b2fb047c-a2a9-4196-a25d-22abc0e59282"
      },
      "execution_count": null,
      "outputs": [
        {
          "output_type": "stream",
          "name": "stdout",
          "text": [
            "Before SMOTE: {0: 51440, 1: 18645}\n",
            "After SMOTE : {0: 51440, 1: 51440}\n",
            "Accuracy : 0.6705855495947951\n",
            "Precision: 0.30374823196605377\n",
            "Recall   : 0.18425568425568425\n",
            "F1-score : 0.2293724966622163\n",
            "ROC-AUC  : 0.5342300559835552\n",
            "Confusion matrix:\n",
            " [[10891  1969]\n",
            " [ 3803   859]]\n",
            "Sensitivity (True Positive Rate): 0.184\n",
            "Specificity (True Negative Rate): 0.847\n"
          ]
        }
      ]
    },
    {
      "cell_type": "code",
      "source": [
        "#43\n",
        "#further work (optional)\n",
        "#Inspect Feature Importance\n",
        "import pandas as pd\n",
        "import numpy as np\n",
        "\n",
        "# Feature importances\n",
        "feature_importances = pd.Series(\n",
        "    gboost_clf.feature_importances_,\n",
        "    index=X.columns\n",
        ").sort_values(ascending=False)\n",
        "\n",
        "print(feature_importances)\n"
      ],
      "metadata": {
        "colab": {
          "base_uri": "https://localhost:8080/"
        },
        "id": "mHKvyu6Evaka",
        "outputId": "65d560bc-0e9e-4b85-db1a-8785859dc152"
      },
      "execution_count": null,
      "outputs": [
        {
          "output_type": "stream",
          "name": "stdout",
          "text": [
            "oxy_flow       0.591321\n",
            "age            0.153413\n",
            "pr_mean        0.135096\n",
            "pr             0.113860\n",
            "gender_1       0.003814\n",
            "c/nc_1.0       0.002496\n",
            "pr_std         0.000000\n",
            "pr_kurtosis    0.000000\n",
            "pr_skew        0.000000\n",
            "dtype: float64\n"
          ]
        }
      ]
    },
    {
      "cell_type": "code",
      "source": [
        "#44\n",
        "# till now use GradientBOost now trying to enhance results further XGBoost fine-tuned for hypoxemia prediction.\n",
        "!pip install xgboost --quiet\n",
        "from xgboost import XGBClassifier\n",
        "from sklearn.metrics import (\n",
        "    accuracy_score, precision_score, recall_score,\n",
        "    f1_score, roc_auc_score, confusion_matrix\n",
        ")\n"
      ],
      "metadata": {
        "id": "aSK4QX4LJhcn"
      },
      "execution_count": null,
      "outputs": []
    },
    {
      "cell_type": "code",
      "source": [
        "#45\n",
        "# Initialize tuned XGBoost classifier\n",
        "xgb = XGBClassifier(\n",
        "    objective='binary:logistic',\n",
        "    eval_metric='auc',\n",
        "    learning_rate=0.05,    # slower learning = smoother fit\n",
        "    n_estimators=400,      # more trees\n",
        "    max_depth=5,           # medium depth to control overfitting\n",
        "    subsample=0.8,\n",
        "    colsample_bytree=0.8,\n",
        "    reg_lambda=1.0,        # L2 regularization\n",
        "    scale_pos_weight=1,    # adjust if imbalance persists\n",
        "    random_state=42\n",
        ")\n",
        "\n",
        "# Train on the balanced or scaled data (whichever you used last)\n",
        "xgb.fit(X_train, y_train)\n"
      ],
      "metadata": {
        "colab": {
          "base_uri": "https://localhost:8080/",
          "height": 254
        },
        "id": "u56EPcObJryh",
        "outputId": "d1f406cd-af61-463d-a6c6-71a4e3dcf1bb"
      },
      "execution_count": null,
      "outputs": [
        {
          "output_type": "execute_result",
          "data": {
            "text/plain": [
              "XGBClassifier(base_score=None, booster=None, callbacks=None,\n",
              "              colsample_bylevel=None, colsample_bynode=None,\n",
              "              colsample_bytree=0.8, device=None, early_stopping_rounds=None,\n",
              "              enable_categorical=False, eval_metric='auc', feature_types=None,\n",
              "              feature_weights=None, gamma=None, grow_policy=None,\n",
              "              importance_type=None, interaction_constraints=None,\n",
              "              learning_rate=0.05, max_bin=None, max_cat_threshold=None,\n",
              "              max_cat_to_onehot=None, max_delta_step=None, max_depth=5,\n",
              "              max_leaves=None, min_child_weight=None, missing=nan,\n",
              "              monotone_constraints=None, multi_strategy=None, n_estimators=400,\n",
              "              n_jobs=None, num_parallel_tree=None, ...)"
            ],
            "text/html": [
              "<style>#sk-container-id-2 {\n",
              "  /* Definition of color scheme common for light and dark mode */\n",
              "  --sklearn-color-text: #000;\n",
              "  --sklearn-color-text-muted: #666;\n",
              "  --sklearn-color-line: gray;\n",
              "  /* Definition of color scheme for unfitted estimators */\n",
              "  --sklearn-color-unfitted-level-0: #fff5e6;\n",
              "  --sklearn-color-unfitted-level-1: #f6e4d2;\n",
              "  --sklearn-color-unfitted-level-2: #ffe0b3;\n",
              "  --sklearn-color-unfitted-level-3: chocolate;\n",
              "  /* Definition of color scheme for fitted estimators */\n",
              "  --sklearn-color-fitted-level-0: #f0f8ff;\n",
              "  --sklearn-color-fitted-level-1: #d4ebff;\n",
              "  --sklearn-color-fitted-level-2: #b3dbfd;\n",
              "  --sklearn-color-fitted-level-3: cornflowerblue;\n",
              "\n",
              "  /* Specific color for light theme */\n",
              "  --sklearn-color-text-on-default-background: var(--sg-text-color, var(--theme-code-foreground, var(--jp-content-font-color1, black)));\n",
              "  --sklearn-color-background: var(--sg-background-color, var(--theme-background, var(--jp-layout-color0, white)));\n",
              "  --sklearn-color-border-box: var(--sg-text-color, var(--theme-code-foreground, var(--jp-content-font-color1, black)));\n",
              "  --sklearn-color-icon: #696969;\n",
              "\n",
              "  @media (prefers-color-scheme: dark) {\n",
              "    /* Redefinition of color scheme for dark theme */\n",
              "    --sklearn-color-text-on-default-background: var(--sg-text-color, var(--theme-code-foreground, var(--jp-content-font-color1, white)));\n",
              "    --sklearn-color-background: var(--sg-background-color, var(--theme-background, var(--jp-layout-color0, #111)));\n",
              "    --sklearn-color-border-box: var(--sg-text-color, var(--theme-code-foreground, var(--jp-content-font-color1, white)));\n",
              "    --sklearn-color-icon: #878787;\n",
              "  }\n",
              "}\n",
              "\n",
              "#sk-container-id-2 {\n",
              "  color: var(--sklearn-color-text);\n",
              "}\n",
              "\n",
              "#sk-container-id-2 pre {\n",
              "  padding: 0;\n",
              "}\n",
              "\n",
              "#sk-container-id-2 input.sk-hidden--visually {\n",
              "  border: 0;\n",
              "  clip: rect(1px 1px 1px 1px);\n",
              "  clip: rect(1px, 1px, 1px, 1px);\n",
              "  height: 1px;\n",
              "  margin: -1px;\n",
              "  overflow: hidden;\n",
              "  padding: 0;\n",
              "  position: absolute;\n",
              "  width: 1px;\n",
              "}\n",
              "\n",
              "#sk-container-id-2 div.sk-dashed-wrapped {\n",
              "  border: 1px dashed var(--sklearn-color-line);\n",
              "  margin: 0 0.4em 0.5em 0.4em;\n",
              "  box-sizing: border-box;\n",
              "  padding-bottom: 0.4em;\n",
              "  background-color: var(--sklearn-color-background);\n",
              "}\n",
              "\n",
              "#sk-container-id-2 div.sk-container {\n",
              "  /* jupyter's `normalize.less` sets `[hidden] { display: none; }`\n",
              "     but bootstrap.min.css set `[hidden] { display: none !important; }`\n",
              "     so we also need the `!important` here to be able to override the\n",
              "     default hidden behavior on the sphinx rendered scikit-learn.org.\n",
              "     See: https://github.com/scikit-learn/scikit-learn/issues/21755 */\n",
              "  display: inline-block !important;\n",
              "  position: relative;\n",
              "}\n",
              "\n",
              "#sk-container-id-2 div.sk-text-repr-fallback {\n",
              "  display: none;\n",
              "}\n",
              "\n",
              "div.sk-parallel-item,\n",
              "div.sk-serial,\n",
              "div.sk-item {\n",
              "  /* draw centered vertical line to link estimators */\n",
              "  background-image: linear-gradient(var(--sklearn-color-text-on-default-background), var(--sklearn-color-text-on-default-background));\n",
              "  background-size: 2px 100%;\n",
              "  background-repeat: no-repeat;\n",
              "  background-position: center center;\n",
              "}\n",
              "\n",
              "/* Parallel-specific style estimator block */\n",
              "\n",
              "#sk-container-id-2 div.sk-parallel-item::after {\n",
              "  content: \"\";\n",
              "  width: 100%;\n",
              "  border-bottom: 2px solid var(--sklearn-color-text-on-default-background);\n",
              "  flex-grow: 1;\n",
              "}\n",
              "\n",
              "#sk-container-id-2 div.sk-parallel {\n",
              "  display: flex;\n",
              "  align-items: stretch;\n",
              "  justify-content: center;\n",
              "  background-color: var(--sklearn-color-background);\n",
              "  position: relative;\n",
              "}\n",
              "\n",
              "#sk-container-id-2 div.sk-parallel-item {\n",
              "  display: flex;\n",
              "  flex-direction: column;\n",
              "}\n",
              "\n",
              "#sk-container-id-2 div.sk-parallel-item:first-child::after {\n",
              "  align-self: flex-end;\n",
              "  width: 50%;\n",
              "}\n",
              "\n",
              "#sk-container-id-2 div.sk-parallel-item:last-child::after {\n",
              "  align-self: flex-start;\n",
              "  width: 50%;\n",
              "}\n",
              "\n",
              "#sk-container-id-2 div.sk-parallel-item:only-child::after {\n",
              "  width: 0;\n",
              "}\n",
              "\n",
              "/* Serial-specific style estimator block */\n",
              "\n",
              "#sk-container-id-2 div.sk-serial {\n",
              "  display: flex;\n",
              "  flex-direction: column;\n",
              "  align-items: center;\n",
              "  background-color: var(--sklearn-color-background);\n",
              "  padding-right: 1em;\n",
              "  padding-left: 1em;\n",
              "}\n",
              "\n",
              "\n",
              "/* Toggleable style: style used for estimator/Pipeline/ColumnTransformer box that is\n",
              "clickable and can be expanded/collapsed.\n",
              "- Pipeline and ColumnTransformer use this feature and define the default style\n",
              "- Estimators will overwrite some part of the style using the `sk-estimator` class\n",
              "*/\n",
              "\n",
              "/* Pipeline and ColumnTransformer style (default) */\n",
              "\n",
              "#sk-container-id-2 div.sk-toggleable {\n",
              "  /* Default theme specific background. It is overwritten whether we have a\n",
              "  specific estimator or a Pipeline/ColumnTransformer */\n",
              "  background-color: var(--sklearn-color-background);\n",
              "}\n",
              "\n",
              "/* Toggleable label */\n",
              "#sk-container-id-2 label.sk-toggleable__label {\n",
              "  cursor: pointer;\n",
              "  display: flex;\n",
              "  width: 100%;\n",
              "  margin-bottom: 0;\n",
              "  padding: 0.5em;\n",
              "  box-sizing: border-box;\n",
              "  text-align: center;\n",
              "  align-items: start;\n",
              "  justify-content: space-between;\n",
              "  gap: 0.5em;\n",
              "}\n",
              "\n",
              "#sk-container-id-2 label.sk-toggleable__label .caption {\n",
              "  font-size: 0.6rem;\n",
              "  font-weight: lighter;\n",
              "  color: var(--sklearn-color-text-muted);\n",
              "}\n",
              "\n",
              "#sk-container-id-2 label.sk-toggleable__label-arrow:before {\n",
              "  /* Arrow on the left of the label */\n",
              "  content: \"▸\";\n",
              "  float: left;\n",
              "  margin-right: 0.25em;\n",
              "  color: var(--sklearn-color-icon);\n",
              "}\n",
              "\n",
              "#sk-container-id-2 label.sk-toggleable__label-arrow:hover:before {\n",
              "  color: var(--sklearn-color-text);\n",
              "}\n",
              "\n",
              "/* Toggleable content - dropdown */\n",
              "\n",
              "#sk-container-id-2 div.sk-toggleable__content {\n",
              "  max-height: 0;\n",
              "  max-width: 0;\n",
              "  overflow: hidden;\n",
              "  text-align: left;\n",
              "  /* unfitted */\n",
              "  background-color: var(--sklearn-color-unfitted-level-0);\n",
              "}\n",
              "\n",
              "#sk-container-id-2 div.sk-toggleable__content.fitted {\n",
              "  /* fitted */\n",
              "  background-color: var(--sklearn-color-fitted-level-0);\n",
              "}\n",
              "\n",
              "#sk-container-id-2 div.sk-toggleable__content pre {\n",
              "  margin: 0.2em;\n",
              "  border-radius: 0.25em;\n",
              "  color: var(--sklearn-color-text);\n",
              "  /* unfitted */\n",
              "  background-color: var(--sklearn-color-unfitted-level-0);\n",
              "}\n",
              "\n",
              "#sk-container-id-2 div.sk-toggleable__content.fitted pre {\n",
              "  /* unfitted */\n",
              "  background-color: var(--sklearn-color-fitted-level-0);\n",
              "}\n",
              "\n",
              "#sk-container-id-2 input.sk-toggleable__control:checked~div.sk-toggleable__content {\n",
              "  /* Expand drop-down */\n",
              "  max-height: 200px;\n",
              "  max-width: 100%;\n",
              "  overflow: auto;\n",
              "}\n",
              "\n",
              "#sk-container-id-2 input.sk-toggleable__control:checked~label.sk-toggleable__label-arrow:before {\n",
              "  content: \"▾\";\n",
              "}\n",
              "\n",
              "/* Pipeline/ColumnTransformer-specific style */\n",
              "\n",
              "#sk-container-id-2 div.sk-label input.sk-toggleable__control:checked~label.sk-toggleable__label {\n",
              "  color: var(--sklearn-color-text);\n",
              "  background-color: var(--sklearn-color-unfitted-level-2);\n",
              "}\n",
              "\n",
              "#sk-container-id-2 div.sk-label.fitted input.sk-toggleable__control:checked~label.sk-toggleable__label {\n",
              "  background-color: var(--sklearn-color-fitted-level-2);\n",
              "}\n",
              "\n",
              "/* Estimator-specific style */\n",
              "\n",
              "/* Colorize estimator box */\n",
              "#sk-container-id-2 div.sk-estimator input.sk-toggleable__control:checked~label.sk-toggleable__label {\n",
              "  /* unfitted */\n",
              "  background-color: var(--sklearn-color-unfitted-level-2);\n",
              "}\n",
              "\n",
              "#sk-container-id-2 div.sk-estimator.fitted input.sk-toggleable__control:checked~label.sk-toggleable__label {\n",
              "  /* fitted */\n",
              "  background-color: var(--sklearn-color-fitted-level-2);\n",
              "}\n",
              "\n",
              "#sk-container-id-2 div.sk-label label.sk-toggleable__label,\n",
              "#sk-container-id-2 div.sk-label label {\n",
              "  /* The background is the default theme color */\n",
              "  color: var(--sklearn-color-text-on-default-background);\n",
              "}\n",
              "\n",
              "/* On hover, darken the color of the background */\n",
              "#sk-container-id-2 div.sk-label:hover label.sk-toggleable__label {\n",
              "  color: var(--sklearn-color-text);\n",
              "  background-color: var(--sklearn-color-unfitted-level-2);\n",
              "}\n",
              "\n",
              "/* Label box, darken color on hover, fitted */\n",
              "#sk-container-id-2 div.sk-label.fitted:hover label.sk-toggleable__label.fitted {\n",
              "  color: var(--sklearn-color-text);\n",
              "  background-color: var(--sklearn-color-fitted-level-2);\n",
              "}\n",
              "\n",
              "/* Estimator label */\n",
              "\n",
              "#sk-container-id-2 div.sk-label label {\n",
              "  font-family: monospace;\n",
              "  font-weight: bold;\n",
              "  display: inline-block;\n",
              "  line-height: 1.2em;\n",
              "}\n",
              "\n",
              "#sk-container-id-2 div.sk-label-container {\n",
              "  text-align: center;\n",
              "}\n",
              "\n",
              "/* Estimator-specific */\n",
              "#sk-container-id-2 div.sk-estimator {\n",
              "  font-family: monospace;\n",
              "  border: 1px dotted var(--sklearn-color-border-box);\n",
              "  border-radius: 0.25em;\n",
              "  box-sizing: border-box;\n",
              "  margin-bottom: 0.5em;\n",
              "  /* unfitted */\n",
              "  background-color: var(--sklearn-color-unfitted-level-0);\n",
              "}\n",
              "\n",
              "#sk-container-id-2 div.sk-estimator.fitted {\n",
              "  /* fitted */\n",
              "  background-color: var(--sklearn-color-fitted-level-0);\n",
              "}\n",
              "\n",
              "/* on hover */\n",
              "#sk-container-id-2 div.sk-estimator:hover {\n",
              "  /* unfitted */\n",
              "  background-color: var(--sklearn-color-unfitted-level-2);\n",
              "}\n",
              "\n",
              "#sk-container-id-2 div.sk-estimator.fitted:hover {\n",
              "  /* fitted */\n",
              "  background-color: var(--sklearn-color-fitted-level-2);\n",
              "}\n",
              "\n",
              "/* Specification for estimator info (e.g. \"i\" and \"?\") */\n",
              "\n",
              "/* Common style for \"i\" and \"?\" */\n",
              "\n",
              ".sk-estimator-doc-link,\n",
              "a:link.sk-estimator-doc-link,\n",
              "a:visited.sk-estimator-doc-link {\n",
              "  float: right;\n",
              "  font-size: smaller;\n",
              "  line-height: 1em;\n",
              "  font-family: monospace;\n",
              "  background-color: var(--sklearn-color-background);\n",
              "  border-radius: 1em;\n",
              "  height: 1em;\n",
              "  width: 1em;\n",
              "  text-decoration: none !important;\n",
              "  margin-left: 0.5em;\n",
              "  text-align: center;\n",
              "  /* unfitted */\n",
              "  border: var(--sklearn-color-unfitted-level-1) 1pt solid;\n",
              "  color: var(--sklearn-color-unfitted-level-1);\n",
              "}\n",
              "\n",
              ".sk-estimator-doc-link.fitted,\n",
              "a:link.sk-estimator-doc-link.fitted,\n",
              "a:visited.sk-estimator-doc-link.fitted {\n",
              "  /* fitted */\n",
              "  border: var(--sklearn-color-fitted-level-1) 1pt solid;\n",
              "  color: var(--sklearn-color-fitted-level-1);\n",
              "}\n",
              "\n",
              "/* On hover */\n",
              "div.sk-estimator:hover .sk-estimator-doc-link:hover,\n",
              ".sk-estimator-doc-link:hover,\n",
              "div.sk-label-container:hover .sk-estimator-doc-link:hover,\n",
              ".sk-estimator-doc-link:hover {\n",
              "  /* unfitted */\n",
              "  background-color: var(--sklearn-color-unfitted-level-3);\n",
              "  color: var(--sklearn-color-background);\n",
              "  text-decoration: none;\n",
              "}\n",
              "\n",
              "div.sk-estimator.fitted:hover .sk-estimator-doc-link.fitted:hover,\n",
              ".sk-estimator-doc-link.fitted:hover,\n",
              "div.sk-label-container:hover .sk-estimator-doc-link.fitted:hover,\n",
              ".sk-estimator-doc-link.fitted:hover {\n",
              "  /* fitted */\n",
              "  background-color: var(--sklearn-color-fitted-level-3);\n",
              "  color: var(--sklearn-color-background);\n",
              "  text-decoration: none;\n",
              "}\n",
              "\n",
              "/* Span, style for the box shown on hovering the info icon */\n",
              ".sk-estimator-doc-link span {\n",
              "  display: none;\n",
              "  z-index: 9999;\n",
              "  position: relative;\n",
              "  font-weight: normal;\n",
              "  right: .2ex;\n",
              "  padding: .5ex;\n",
              "  margin: .5ex;\n",
              "  width: min-content;\n",
              "  min-width: 20ex;\n",
              "  max-width: 50ex;\n",
              "  color: var(--sklearn-color-text);\n",
              "  box-shadow: 2pt 2pt 4pt #999;\n",
              "  /* unfitted */\n",
              "  background: var(--sklearn-color-unfitted-level-0);\n",
              "  border: .5pt solid var(--sklearn-color-unfitted-level-3);\n",
              "}\n",
              "\n",
              ".sk-estimator-doc-link.fitted span {\n",
              "  /* fitted */\n",
              "  background: var(--sklearn-color-fitted-level-0);\n",
              "  border: var(--sklearn-color-fitted-level-3);\n",
              "}\n",
              "\n",
              ".sk-estimator-doc-link:hover span {\n",
              "  display: block;\n",
              "}\n",
              "\n",
              "/* \"?\"-specific style due to the `<a>` HTML tag */\n",
              "\n",
              "#sk-container-id-2 a.estimator_doc_link {\n",
              "  float: right;\n",
              "  font-size: 1rem;\n",
              "  line-height: 1em;\n",
              "  font-family: monospace;\n",
              "  background-color: var(--sklearn-color-background);\n",
              "  border-radius: 1rem;\n",
              "  height: 1rem;\n",
              "  width: 1rem;\n",
              "  text-decoration: none;\n",
              "  /* unfitted */\n",
              "  color: var(--sklearn-color-unfitted-level-1);\n",
              "  border: var(--sklearn-color-unfitted-level-1) 1pt solid;\n",
              "}\n",
              "\n",
              "#sk-container-id-2 a.estimator_doc_link.fitted {\n",
              "  /* fitted */\n",
              "  border: var(--sklearn-color-fitted-level-1) 1pt solid;\n",
              "  color: var(--sklearn-color-fitted-level-1);\n",
              "}\n",
              "\n",
              "/* On hover */\n",
              "#sk-container-id-2 a.estimator_doc_link:hover {\n",
              "  /* unfitted */\n",
              "  background-color: var(--sklearn-color-unfitted-level-3);\n",
              "  color: var(--sklearn-color-background);\n",
              "  text-decoration: none;\n",
              "}\n",
              "\n",
              "#sk-container-id-2 a.estimator_doc_link.fitted:hover {\n",
              "  /* fitted */\n",
              "  background-color: var(--sklearn-color-fitted-level-3);\n",
              "}\n",
              "</style><div id=\"sk-container-id-2\" class=\"sk-top-container\"><div class=\"sk-text-repr-fallback\"><pre>XGBClassifier(base_score=None, booster=None, callbacks=None,\n",
              "              colsample_bylevel=None, colsample_bynode=None,\n",
              "              colsample_bytree=0.8, device=None, early_stopping_rounds=None,\n",
              "              enable_categorical=False, eval_metric=&#x27;auc&#x27;, feature_types=None,\n",
              "              feature_weights=None, gamma=None, grow_policy=None,\n",
              "              importance_type=None, interaction_constraints=None,\n",
              "              learning_rate=0.05, max_bin=None, max_cat_threshold=None,\n",
              "              max_cat_to_onehot=None, max_delta_step=None, max_depth=5,\n",
              "              max_leaves=None, min_child_weight=None, missing=nan,\n",
              "              monotone_constraints=None, multi_strategy=None, n_estimators=400,\n",
              "              n_jobs=None, num_parallel_tree=None, ...)</pre><b>In a Jupyter environment, please rerun this cell to show the HTML representation or trust the notebook. <br />On GitHub, the HTML representation is unable to render, please try loading this page with nbviewer.org.</b></div><div class=\"sk-container\" hidden><div class=\"sk-item\"><div class=\"sk-estimator fitted sk-toggleable\"><input class=\"sk-toggleable__control sk-hidden--visually\" id=\"sk-estimator-id-2\" type=\"checkbox\" checked><label for=\"sk-estimator-id-2\" class=\"sk-toggleable__label fitted sk-toggleable__label-arrow\"><div><div>XGBClassifier</div></div><div><a class=\"sk-estimator-doc-link fitted\" rel=\"noreferrer\" target=\"_blank\" href=\"https://xgboost.readthedocs.io/en/release_3.0.0/python/python_api.html#xgboost.XGBClassifier\">?<span>Documentation for XGBClassifier</span></a><span class=\"sk-estimator-doc-link fitted\">i<span>Fitted</span></span></div></label><div class=\"sk-toggleable__content fitted\"><pre>XGBClassifier(base_score=None, booster=None, callbacks=None,\n",
              "              colsample_bylevel=None, colsample_bynode=None,\n",
              "              colsample_bytree=0.8, device=None, early_stopping_rounds=None,\n",
              "              enable_categorical=False, eval_metric=&#x27;auc&#x27;, feature_types=None,\n",
              "              feature_weights=None, gamma=None, grow_policy=None,\n",
              "              importance_type=None, interaction_constraints=None,\n",
              "              learning_rate=0.05, max_bin=None, max_cat_threshold=None,\n",
              "              max_cat_to_onehot=None, max_delta_step=None, max_depth=5,\n",
              "              max_leaves=None, min_child_weight=None, missing=nan,\n",
              "              monotone_constraints=None, multi_strategy=None, n_estimators=400,\n",
              "              n_jobs=None, num_parallel_tree=None, ...)</pre></div> </div></div></div></div>"
            ]
          },
          "metadata": {},
          "execution_count": 58
        }
      ]
    },
    {
      "cell_type": "code",
      "source": [
        "#46\n",
        "#46  --- XGBoost with SMOTE-balanced data ---\n",
        "\n",
        "from xgboost import XGBClassifier\n",
        "from sklearn.metrics import (\n",
        "    accuracy_score, precision_score, recall_score,\n",
        "    f1_score, roc_auc_score, confusion_matrix\n",
        ")\n",
        "\n",
        "# Train XGBoost on SMOTE-balanced training data\n",
        "xgb = XGBClassifier(\n",
        "    objective='binary:logistic',\n",
        "    eval_metric='auc',\n",
        "    learning_rate=0.05,    # slower learning = smoother fit\n",
        "    n_estimators=400,      # more trees\n",
        "    max_depth=5,           # medium depth to control overfitting\n",
        "    subsample=0.8,\n",
        "    colsample_bytree=0.8,\n",
        "    reg_lambda=1.0,        # L2 regularization\n",
        "    random_state=42\n",
        ")\n",
        "\n",
        "print(\"Training XGBoost on SMOTE-balanced data...\")\n",
        "xgb.fit(X_train_res, y_train_res)\n",
        "\n",
        "# Predict on the same (unbalanced) test set\n",
        "y_pred = xgb.predict(X_test_scaled)\n",
        "y_pred_proba = xgb.predict_proba(X_test_scaled)[:, 1]\n",
        "\n",
        "# Evaluate\n",
        "print(\"Accuracy :\", accuracy_score(y_test, y_pred))\n",
        "print(\"Precision:\", precision_score(y_test, y_pred, zero_division=0))\n",
        "print(\"Recall   :\", recall_score(y_test, y_pred, zero_division=0))\n",
        "print(\"F1-score :\", f1_score(y_test, y_pred, zero_division=0))\n",
        "print(\"ROC-AUC  :\", roc_auc_score(y_test, y_pred_proba))\n",
        "print(\"Confusion matrix:\\n\", confusion_matrix(y_test, y_pred))\n",
        "\n",
        "# 🩺 Print sensitivity and specificity\n",
        "print_classification_metrics(y_test, y_pred)\n",
        "\n",
        "\n"
      ],
      "metadata": {
        "colab": {
          "base_uri": "https://localhost:8080/"
        },
        "id": "0bKO1-rhJ1B7",
        "outputId": "3ac13ae7-b8a3-4353-ac9f-8452aec993b5"
      },
      "execution_count": null,
      "outputs": [
        {
          "output_type": "stream",
          "name": "stdout",
          "text": [
            "Training XGBoost on SMOTE-balanced data...\n",
            "Accuracy : 0.6919872160712247\n",
            "Precision: 0.3074908328968046\n",
            "Recall   : 0.1259116259116259\n",
            "F1-score : 0.17866382590168925\n",
            "ROC-AUC  : 0.5324834221023956\n",
            "Confusion matrix:\n",
            " [[11538  1322]\n",
            " [ 4075   587]]\n",
            "Sensitivity (True Positive Rate): 0.126\n",
            "Specificity (True Negative Rate): 0.897\n"
          ]
        }
      ]
    }
  ]
}